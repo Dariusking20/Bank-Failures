{
 "cells": [
  {
   "cell_type": "code",
   "execution_count": null,
   "metadata": {
    "scrolled": true
   },
   "outputs": [],
   "source": [
    "import sqlite3 as db\n",
    "import pandas as pd\n",
    "import matplotlib.pyplot as plt\n",
    "from bokeh.plotting import figure, show\n",
    "from bokeh.models import ColumnDataSource\n",
    "from bokeh.transform import factor_cmap\n",
    "from bokeh.io import output_notebook"
   ]
  },
  {
   "cell_type": "markdown",
   "metadata": {},
   "source": []
  },
  {
   "cell_type": "code",
   "execution_count": null,
   "metadata": {},
   "outputs": [
    {
     "data": {
      "text/plain": [
       "3548"
      ]
     },
     "execution_count": 169,
     "metadata": {},
     "output_type": "execute_result"
    }
   ],
   "source": [
    "df = pd.read_csv('/Users/dariushammond/Desktop/Desktop/Projects/Bank Failures/bank-data.csv')\n",
    "\n",
    "disk_engine = db.connect('bank_failures.db')\n",
    "\n",
    "c = disk_engine.cursor()\n",
    "df.to_sql(\"bankfailures\", disk_engine, if_exists='replace', index=False)\n"
   ]
  },
  {
   "cell_type": "markdown",
   "metadata": {},
   "source": [
    "# Bank Failures Dataset\n",
    "\n",
    "## Columns and Descriptions\n",
    "\n",
    "1. **Institution Name**\n",
    "   - **Description:** The name of the failed bank.\n",
    "   \n",
    "2. **Cert**\n",
    "   - **Description:** The unique certificate number assigned to the bank by the FDIC.\n",
    "   \n",
    "3. **FIN**\n",
    "   - **Description:** The Federal Information Number, a unique identifier for financial institutions.\n",
    "   \n",
    "4. **Location**\n",
    "   - **Description:** The city and state where the bank was headquartered.\n",
    "   \n",
    "5. **Effective Date**\n",
    "   - **Description:** The date when the bank failure was officially recorded.\n",
    "   \n",
    "6. **Insurance Fund**\n",
    "   - **Description:** The insurance fund responsible for covering the bank's deposits.\n",
    "   \n",
    "7. **Resolution**\n",
    "   - **Description:** The method used to resolve the bank's failure, such as payout or acquisition by another bank.\n",
    "   \n",
    "8. **Estimated Loss**\n",
    "   - **Description:** The estimated financial loss resulting from the bank's failure.\n",
    "   \n",
    "9. **Transaction Type**\n",
    "   - **Description:** The type of transaction used to resolve the bank, such as a purchase and assumption (P&A) or insured deposit transfer (IDT).\n",
    "   \n",
    "10. **Charter Class**\n",
    "    - **Description:** The charter class of the bank, indicating whether it was a national or state-chartered bank.\n",
    "    \n",
    "11. **Total Deposits**\n",
    "    - **Description:** The total amount of deposits held by the bank at the time of its failure.\n",
    "    \n",
    "12. **Total Assets**\n",
    "    - **Description:** The total amount of assets held by the bank at the time of its failure.\n"
   ]
  },
  {
   "cell_type": "code",
   "execution_count": null,
   "metadata": {
    "scrolled": true
   },
   "outputs": [
    {
     "data": {
      "text/html": [
       "<div>\n",
       "<style scoped>\n",
       "    .dataframe tbody tr th:only-of-type {\n",
       "        vertical-align: middle;\n",
       "    }\n",
       "\n",
       "    .dataframe tbody tr th {\n",
       "        vertical-align: top;\n",
       "    }\n",
       "\n",
       "    .dataframe thead th {\n",
       "        text-align: right;\n",
       "    }\n",
       "</style>\n",
       "<table border=\"1\" class=\"dataframe\">\n",
       "  <thead>\n",
       "    <tr style=\"text-align: right;\">\n",
       "      <th></th>\n",
       "      <th>CERT</th>\n",
       "      <th>CHCLASS1</th>\n",
       "      <th>CITYST</th>\n",
       "      <th>COST</th>\n",
       "      <th>FAILDATE</th>\n",
       "      <th>FIN</th>\n",
       "      <th>ID</th>\n",
       "      <th>NAME</th>\n",
       "      <th>QBFASSET</th>\n",
       "      <th>QBFDEP</th>\n",
       "      <th>RESTYPE</th>\n",
       "      <th>RESTYPE1</th>\n",
       "      <th>SAVR</th>\n",
       "    </tr>\n",
       "  </thead>\n",
       "  <tbody>\n",
       "    <tr>\n",
       "      <th>0</th>\n",
       "      <td>27332</td>\n",
       "      <td>NM</td>\n",
       "      <td>PHILADELPHIA, PA</td>\n",
       "      <td>NaN</td>\n",
       "      <td>4/26/2024</td>\n",
       "      <td>10546</td>\n",
       "      <td>4110</td>\n",
       "      <td>REPUBLIC BANK</td>\n",
       "      <td>5866190.0</td>\n",
       "      <td>4373927.0</td>\n",
       "      <td>FAILURE</td>\n",
       "      <td>PA</td>\n",
       "      <td>BIF</td>\n",
       "    </tr>\n",
       "    <tr>\n",
       "      <th>1</th>\n",
       "      <td>8758</td>\n",
       "      <td>NM</td>\n",
       "      <td>SAC CITY, IA</td>\n",
       "      <td>14804.0</td>\n",
       "      <td>11/3/2023</td>\n",
       "      <td>10545</td>\n",
       "      <td>4109</td>\n",
       "      <td>CITIZENS BANK</td>\n",
       "      <td>60448.0</td>\n",
       "      <td>52311.0</td>\n",
       "      <td>FAILURE</td>\n",
       "      <td>PA</td>\n",
       "      <td>DIF</td>\n",
       "    </tr>\n",
       "    <tr>\n",
       "      <th>2</th>\n",
       "      <td>25851</td>\n",
       "      <td>SM</td>\n",
       "      <td>ELKHART, KS</td>\n",
       "      <td>54167.0</td>\n",
       "      <td>7/28/2023</td>\n",
       "      <td>10544</td>\n",
       "      <td>4108</td>\n",
       "      <td>HEARTLAND TRI-STATE BANK</td>\n",
       "      <td>139446.0</td>\n",
       "      <td>130110.0</td>\n",
       "      <td>FAILURE</td>\n",
       "      <td>PA</td>\n",
       "      <td>DIF</td>\n",
       "    </tr>\n",
       "    <tr>\n",
       "      <th>3</th>\n",
       "      <td>59017</td>\n",
       "      <td>NM</td>\n",
       "      <td>SAN FRANCISCO, CA</td>\n",
       "      <td>16566779.0</td>\n",
       "      <td>5/1/2023</td>\n",
       "      <td>10543</td>\n",
       "      <td>4107</td>\n",
       "      <td>FIRST REPUBLIC BANK</td>\n",
       "      <td>212638872.0</td>\n",
       "      <td>176436706.0</td>\n",
       "      <td>FAILURE</td>\n",
       "      <td>PA</td>\n",
       "      <td>DIF</td>\n",
       "    </tr>\n",
       "    <tr>\n",
       "      <th>4</th>\n",
       "      <td>57053</td>\n",
       "      <td>NM</td>\n",
       "      <td>NEW YORK, NY</td>\n",
       "      <td>2787270.0</td>\n",
       "      <td>3/12/2023</td>\n",
       "      <td>10540</td>\n",
       "      <td>4106</td>\n",
       "      <td>SIGNATURE BANK</td>\n",
       "      <td>110363650.0</td>\n",
       "      <td>88612911.0</td>\n",
       "      <td>FAILURE</td>\n",
       "      <td>PA</td>\n",
       "      <td>DIF</td>\n",
       "    </tr>\n",
       "  </tbody>\n",
       "</table>\n",
       "</div>"
      ],
      "text/plain": [
       "    CERT CHCLASS1             CITYST        COST   FAILDATE    FIN    ID  \\\n",
       "0  27332       NM   PHILADELPHIA, PA         NaN  4/26/2024  10546  4110   \n",
       "1   8758       NM       SAC CITY, IA     14804.0  11/3/2023  10545  4109   \n",
       "2  25851       SM        ELKHART, KS     54167.0  7/28/2023  10544  4108   \n",
       "3  59017       NM  SAN FRANCISCO, CA  16566779.0   5/1/2023  10543  4107   \n",
       "4  57053       NM       NEW YORK, NY   2787270.0  3/12/2023  10540  4106   \n",
       "\n",
       "                       NAME     QBFASSET       QBFDEP  RESTYPE RESTYPE1 SAVR  \n",
       "0             REPUBLIC BANK    5866190.0    4373927.0  FAILURE       PA  BIF  \n",
       "1             CITIZENS BANK      60448.0      52311.0  FAILURE       PA  DIF  \n",
       "2  HEARTLAND TRI-STATE BANK     139446.0     130110.0  FAILURE       PA  DIF  \n",
       "3       FIRST REPUBLIC BANK  212638872.0  176436706.0  FAILURE       PA  DIF  \n",
       "4            SIGNATURE BANK  110363650.0   88612911.0  FAILURE       PA  DIF  "
      ]
     },
     "execution_count": 170,
     "metadata": {},
     "output_type": "execute_result"
    }
   ],
   "source": [
    "df = pd.read_sql_query('SELECT * FROM BANKFAILURES;', disk_engine)\n",
    "df.head()"
   ]
  },
  {
   "cell_type": "markdown",
   "metadata": {},
   "source": [
    "## Renaming columns\n",
    "Looking at the dataframe we can see that the column names arent that clear. We can rename the column names in Table by using the **ALTER TABLE** command."
   ]
  },
  {
   "cell_type": "code",
   "execution_count": null,
   "metadata": {},
   "outputs": [],
   "source": [
    "new_columns_names = [\n",
    "            ('CHCLASS1', 'CHARTER_CLASS'),\n",
    "             ('CITYST' , 'CITY_ST'),\n",
    "             ('COST', 'ESTIMATED_LOSS'),\n",
    "             ('FAILDATE', 'FAIL_DATE'),\n",
    "             ('QBFASSET', 'TOTAL_ASSETS'),\n",
    "             ('QBFDEP', 'TOTAL_DEPOSITS'),\n",
    "             ('RESTYPE', 'RESOLUTION'),\n",
    "             ('RESTYPE1', 'TRANSACTION_TYPE'),\n",
    "             ('SAVR', 'INSURANCE_FUND')]\n",
    "for old_name, new_name in new_columns_names: \n",
    "    c.execute(f'ALTER TABLE BANKFAILURES RENAME COLUMN {old_name} TO {new_name}') #executes query string\n",
    "\n",
    "    "
   ]
  },
  {
   "cell_type": "code",
   "execution_count": null,
   "metadata": {},
   "outputs": [],
   "source": [
    "#disk_engine.commit() # commit so changes can be perma"
   ]
  },
  {
   "cell_type": "markdown",
   "metadata": {},
   "source": [
    "# How many banks have failed in this dataset?"
   ]
  },
  {
   "cell_type": "code",
   "execution_count": null,
   "metadata": {
    "scrolled": false
   },
   "outputs": [
    {
     "data": {
      "text/html": [
       "<div>\n",
       "<style scoped>\n",
       "    .dataframe tbody tr th:only-of-type {\n",
       "        vertical-align: middle;\n",
       "    }\n",
       "\n",
       "    .dataframe tbody tr th {\n",
       "        vertical-align: top;\n",
       "    }\n",
       "\n",
       "    .dataframe thead th {\n",
       "        text-align: right;\n",
       "    }\n",
       "</style>\n",
       "<table border=\"1\" class=\"dataframe\">\n",
       "  <thead>\n",
       "    <tr style=\"text-align: right;\">\n",
       "      <th></th>\n",
       "      <th>number_of_failed_banks</th>\n",
       "    </tr>\n",
       "  </thead>\n",
       "  <tbody>\n",
       "    <tr>\n",
       "      <th>0</th>\n",
       "      <td>3548</td>\n",
       "    </tr>\n",
       "  </tbody>\n",
       "</table>\n",
       "</div>"
      ],
      "text/plain": [
       "   number_of_failed_banks\n",
       "0                    3548"
      ]
     },
     "execution_count": 173,
     "metadata": {},
     "output_type": "execute_result"
    }
   ],
   "source": [
    "query = '''SELECT COUNT(*) AS number_of_failed_banks\n",
    "            FROM BANKFAILURES\n",
    "            \n",
    "'''\n",
    "df = pd.read_sql_query(query,disk_engine).rename(columns=str.lower);df.head()"
   ]
  },
  {
   "cell_type": "markdown",
   "metadata": {},
   "source": [
    "# What are the unique locations where banks have failed?"
   ]
  },
  {
   "cell_type": "code",
   "execution_count": null,
   "metadata": {
    "scrolled": true
   },
   "outputs": [
    {
     "name": "stdout",
     "output_type": "stream",
     "text": [
      "There are 1998 unique locations, the first five are:\n"
     ]
    },
    {
     "data": {
      "text/html": [
       "<div>\n",
       "<style scoped>\n",
       "    .dataframe tbody tr th:only-of-type {\n",
       "        vertical-align: middle;\n",
       "    }\n",
       "\n",
       "    .dataframe tbody tr th {\n",
       "        vertical-align: top;\n",
       "    }\n",
       "\n",
       "    .dataframe thead th {\n",
       "        text-align: right;\n",
       "    }\n",
       "</style>\n",
       "<table border=\"1\" class=\"dataframe\">\n",
       "  <thead>\n",
       "    <tr style=\"text-align: right;\">\n",
       "      <th></th>\n",
       "      <th>city_st</th>\n",
       "    </tr>\n",
       "  </thead>\n",
       "  <tbody>\n",
       "    <tr>\n",
       "      <th>0</th>\n",
       "      <td>PHILADELPHIA, PA</td>\n",
       "    </tr>\n",
       "    <tr>\n",
       "      <th>1</th>\n",
       "      <td>SAC CITY, IA</td>\n",
       "    </tr>\n",
       "    <tr>\n",
       "      <th>2</th>\n",
       "      <td>ELKHART, KS</td>\n",
       "    </tr>\n",
       "    <tr>\n",
       "      <th>3</th>\n",
       "      <td>SAN FRANCISCO, CA</td>\n",
       "    </tr>\n",
       "    <tr>\n",
       "      <th>4</th>\n",
       "      <td>NEW YORK, NY</td>\n",
       "    </tr>\n",
       "  </tbody>\n",
       "</table>\n",
       "</div>"
      ],
      "text/plain": [
       "             city_st\n",
       "0   PHILADELPHIA, PA\n",
       "1       SAC CITY, IA\n",
       "2        ELKHART, KS\n",
       "3  SAN FRANCISCO, CA\n",
       "4       NEW YORK, NY"
      ]
     },
     "execution_count": 174,
     "metadata": {},
     "output_type": "execute_result"
    }
   ],
   "source": [
    "query = '''SELECT DISTINCT city_st\n",
    "            FROM BANKFAILURES'''\n",
    "df = pd.read_sql_query(query,disk_engine).rename(columns=str.lower)\n",
    "print(\"There are {} unique locations, the first five are:\".format(len(df)))\n",
    "df.head()"
   ]
  },
  {
   "cell_type": "markdown",
   "metadata": {},
   "source": [
    "## Lets see how many by state, whats your guess?"
   ]
  },
  {
   "cell_type": "code",
   "execution_count": null,
   "metadata": {
    "scrolled": false
   },
   "outputs": [
    {
     "name": "stdout",
     "output_type": "stream",
     "text": [
      "There are 53 unique States, the first five are:\n"
     ]
    },
    {
     "data": {
      "text/html": [
       "<div>\n",
       "<style scoped>\n",
       "    .dataframe tbody tr th:only-of-type {\n",
       "        vertical-align: middle;\n",
       "    }\n",
       "\n",
       "    .dataframe tbody tr th {\n",
       "        vertical-align: top;\n",
       "    }\n",
       "\n",
       "    .dataframe thead th {\n",
       "        text-align: right;\n",
       "    }\n",
       "</style>\n",
       "<table border=\"1\" class=\"dataframe\">\n",
       "  <thead>\n",
       "    <tr style=\"text-align: right;\">\n",
       "      <th></th>\n",
       "      <th>State</th>\n",
       "      <th>Count</th>\n",
       "    </tr>\n",
       "  </thead>\n",
       "  <tbody>\n",
       "    <tr>\n",
       "      <th>0</th>\n",
       "      <td>TX</td>\n",
       "      <td>863</td>\n",
       "    </tr>\n",
       "    <tr>\n",
       "      <th>1</th>\n",
       "      <td>CA</td>\n",
       "      <td>259</td>\n",
       "    </tr>\n",
       "    <tr>\n",
       "      <th>2</th>\n",
       "      <td>IL</td>\n",
       "      <td>200</td>\n",
       "    </tr>\n",
       "    <tr>\n",
       "      <th>3</th>\n",
       "      <td>FL</td>\n",
       "      <td>194</td>\n",
       "    </tr>\n",
       "    <tr>\n",
       "      <th>4</th>\n",
       "      <td>OK</td>\n",
       "      <td>169</td>\n",
       "    </tr>\n",
       "  </tbody>\n",
       "</table>\n",
       "</div>"
      ],
      "text/plain": [
       "  State  Count\n",
       "0    TX    863\n",
       "1    CA    259\n",
       "2    IL    200\n",
       "3    FL    194\n",
       "4    OK    169"
      ]
     },
     "execution_count": 175,
     "metadata": {},
     "output_type": "execute_result"
    }
   ],
   "source": [
    "query = ''' SELECT DISTINCT SUBSTR(city_st,-2) AS State, COUNT(*) AS Count\n",
    "            FROM BANKFAILURES\n",
    "            GROUP BY 1\n",
    "            ORDER BY Count DESC         \n",
    "            '''\n",
    "df = pd.read_sql_query(query,disk_engine)\n",
    "print(\"There are {} unique States, the first five are:\".format(len(df)))\n",
    "df.head()"
   ]
  },
  {
   "cell_type": "markdown",
   "metadata": {},
   "source": [
    "## We also see the counts for each state and looks like texas has a lot of banks that failed. Lets calculate a Cumulative percentage"
   ]
  },
  {
   "cell_type": "code",
   "execution_count": null,
   "metadata": {
    "scrolled": false
   },
   "outputs": [
    {
     "name": "stdout",
     "output_type": "stream",
     "text": [
      "The Top 5 States with the highest percentage of bank failures\n"
     ]
    },
    {
     "data": {
      "text/html": [
       "<div>\n",
       "<style scoped>\n",
       "    .dataframe tbody tr th:only-of-type {\n",
       "        vertical-align: middle;\n",
       "    }\n",
       "\n",
       "    .dataframe tbody tr th {\n",
       "        vertical-align: top;\n",
       "    }\n",
       "\n",
       "    .dataframe thead th {\n",
       "        text-align: right;\n",
       "    }\n",
       "</style>\n",
       "<table border=\"1\" class=\"dataframe\">\n",
       "  <thead>\n",
       "    <tr style=\"text-align: right;\">\n",
       "      <th></th>\n",
       "      <th>State</th>\n",
       "      <th>Count</th>\n",
       "      <th>TotalFailuresPercentageByState</th>\n",
       "    </tr>\n",
       "  </thead>\n",
       "  <tbody>\n",
       "    <tr>\n",
       "      <th>0</th>\n",
       "      <td>TX</td>\n",
       "      <td>863</td>\n",
       "      <td>24.32%</td>\n",
       "    </tr>\n",
       "    <tr>\n",
       "      <th>1</th>\n",
       "      <td>CA</td>\n",
       "      <td>259</td>\n",
       "      <td>7.3%</td>\n",
       "    </tr>\n",
       "    <tr>\n",
       "      <th>2</th>\n",
       "      <td>IL</td>\n",
       "      <td>200</td>\n",
       "      <td>5.64%</td>\n",
       "    </tr>\n",
       "    <tr>\n",
       "      <th>3</th>\n",
       "      <td>FL</td>\n",
       "      <td>194</td>\n",
       "      <td>5.47%</td>\n",
       "    </tr>\n",
       "    <tr>\n",
       "      <th>4</th>\n",
       "      <td>OK</td>\n",
       "      <td>169</td>\n",
       "      <td>4.76%</td>\n",
       "    </tr>\n",
       "  </tbody>\n",
       "</table>\n",
       "</div>"
      ],
      "text/plain": [
       "  State  Count TotalFailuresPercentageByState\n",
       "0    TX    863                         24.32%\n",
       "1    CA    259                           7.3%\n",
       "2    IL    200                          5.64%\n",
       "3    FL    194                          5.47%\n",
       "4    OK    169                          4.76%"
      ]
     },
     "execution_count": 176,
     "metadata": {},
     "output_type": "execute_result"
    }
   ],
   "source": [
    "query = '''\n",
    "        SELECT \n",
    "    State, \n",
    "    Count, \n",
    "    ROUND((Count * 1.0/ (SELECT COUNT(*) FROM BANKFAILURES)) * 100.00000,2) || '%' AS TotalFailuresPercentageByState\n",
    "FROM (\n",
    "    SELECT \n",
    "        SUBSTR(city_st, -2) AS State, \n",
    "        COUNT(*) AS Count\n",
    "    FROM BANKFAILURES\n",
    "    GROUP BY SUBSTR(city_st, -2)\n",
    ")\n",
    "ORDER BY Count DESC     \n",
    " \n",
    "'''\n",
    "df = pd.read_sql_query(query,disk_engine)\n",
    "print(\"The Top 5 States with the highest percentage of bank failures\")\n",
    "\n",
    "df.head()"
   ]
  },
  {
   "cell_type": "code",
   "execution_count": null,
   "metadata": {},
   "outputs": [],
   "source": [
    "# Initialize Bokeh to output in the notebook\n",
    "output_notebook()\n",
    "\n",
    "def make_barchart(df, x_col, y_col, kwargs_figure=None):\n",
    "    if kwargs_figure is None:\n",
    "        kwargs_figure = {}\n",
    "\n",
    "    # Prepare the data source for Bokeh\n",
    "    source = ColumnDataSource(df)\n",
    "\n",
    "    # Get unique values for x-axis\n",
    "    x_values = df[x_col].unique().tolist()\n",
    "\n",
    "    # Define a suitable palette based on the number of unique x_values\n",
    "    palette = ['#3182bd', '#6baed6', '#9ecae1', '#c6dbef', '#e6550d', '#fd8d3c', '#fdae6b', '#fdd0a2', '#31a354', '#74c476']\n",
    "\n",
    "    # Create a Bokeh figure\n",
    "    p = figure(x_range=x_values, **kwargs_figure)\n",
    "\n",
    "    # Create color map based on the factors and palette\n",
    "    colors = factor_cmap(x_col, palette=palette, factors=x_values)\n",
    "\n",
    "    # Add bars to the figure\n",
    "    p.vbar(x=x_col, top=y_col, width=0.9, source=source, legend_field=x_col, fill_color=colors)\n",
    "\n",
    "    # Customize the figure\n",
    "    p.xgrid.grid_line_color = None\n",
    "    p.y_range.start = 0\n",
    "    p.legend.orientation = \"horizontal\"\n",
    "    p.legend.location = \"top_center\"\n",
    "\n",
    "    return p"
   ]
  },
  {
   "cell_type": "markdown",
   "metadata": {},
   "source": [
    "## The Top 10 States with the most Bank Failures and we can see that Texas holds almost a fourth of the total bank failures"
   ]
  },
  {
   "cell_type": "code",
   "execution_count": null,
   "metadata": {
    "scrolled": false
   },
   "outputs": [
    {
     "data": {
      "text/html": [
       "\n",
       "  <div id=\"c808e5ad-c905-407c-aed2-24eb750b625a\" data-root-id=\"p2371\" style=\"display: contents;\"></div>\n"
      ]
     },
     "metadata": {},
     "output_type": "display_data"
    },
    {
     "data": {
      "application/javascript": "(function(root) {\n  function embed_document(root) {\n  const docs_json = {\"e3b83ef3-02a6-4522-9119-67277fd23368\":{\"version\":\"3.3.4\",\"title\":\"Bokeh Application\",\"roots\":[{\"type\":\"object\",\"name\":\"Figure\",\"id\":\"p2371\",\"attributes\":{\"width\":640,\"height\":320,\"x_range\":{\"type\":\"object\",\"name\":\"FactorRange\",\"id\":\"p2380\",\"attributes\":{\"factors\":[\"TX\",\"CA\",\"IL\",\"FL\",\"OK\",\"LA\",\"GA\",\"KS\",\"CO\",\"MO\"]}},\"y_range\":{\"type\":\"object\",\"name\":\"DataRange1d\",\"id\":\"p2373\",\"attributes\":{\"start\":0}},\"x_scale\":{\"type\":\"object\",\"name\":\"CategoricalScale\",\"id\":\"p2381\"},\"y_scale\":{\"type\":\"object\",\"name\":\"LinearScale\",\"id\":\"p2382\"},\"title\":{\"type\":\"object\",\"name\":\"Title\",\"id\":\"p2378\"},\"renderers\":[{\"type\":\"object\",\"name\":\"GlyphRenderer\",\"id\":\"p2411\",\"attributes\":{\"data_source\":{\"type\":\"object\",\"name\":\"ColumnDataSource\",\"id\":\"p2368\",\"attributes\":{\"selected\":{\"type\":\"object\",\"name\":\"Selection\",\"id\":\"p2369\",\"attributes\":{\"indices\":[],\"line_indices\":[]}},\"selection_policy\":{\"type\":\"object\",\"name\":\"UnionRenderers\",\"id\":\"p2370\"},\"data\":{\"type\":\"map\",\"entries\":[[\"index\",{\"type\":\"ndarray\",\"array\":{\"type\":\"bytes\",\"data\":\"AAAAAAEAAAACAAAAAwAAAAQAAAAFAAAABgAAAAcAAAAIAAAACQAAAA==\"},\"shape\":[10],\"dtype\":\"int32\",\"order\":\"little\"}],[\"State\",{\"type\":\"ndarray\",\"array\":[\"TX\",\"CA\",\"IL\",\"FL\",\"OK\",\"LA\",\"GA\",\"KS\",\"CO\",\"MO\"],\"shape\":[10],\"dtype\":\"object\",\"order\":\"little\"}],[\"Count\",{\"type\":\"ndarray\",\"array\":{\"type\":\"bytes\",\"data\":\"XwMAAAMBAADIAAAAwgAAAKkAAAChAAAAeQAAAG8AAABeAAAAVAAAAA==\"},\"shape\":[10],\"dtype\":\"int32\",\"order\":\"little\"}],[\"TotalFailuresPercentageByState\",{\"type\":\"ndarray\",\"array\":[\"24.32%\",\"7.3%\",\"5.64%\",\"5.47%\",\"4.76%\",\"4.54%\",\"3.41%\",\"3.13%\",\"2.65%\",\"2.37%\"],\"shape\":[10],\"dtype\":\"object\",\"order\":\"little\"}]]}}},\"view\":{\"type\":\"object\",\"name\":\"CDSView\",\"id\":\"p2412\",\"attributes\":{\"filter\":{\"type\":\"object\",\"name\":\"AllIndices\",\"id\":\"p2413\"}}},\"glyph\":{\"type\":\"object\",\"name\":\"VBar\",\"id\":\"p2408\",\"attributes\":{\"x\":{\"type\":\"field\",\"field\":\"State\"},\"width\":{\"type\":\"value\",\"value\":0.9},\"top\":{\"type\":\"field\",\"field\":\"Count\"},\"line_color\":{\"type\":\"value\",\"value\":\"#1f77b4\"},\"fill_color\":{\"type\":\"field\",\"field\":\"State\",\"transform\":{\"type\":\"object\",\"name\":\"CategoricalColorMapper\",\"id\":\"p2404\",\"attributes\":{\"palette\":[\"#3182bd\",\"#6baed6\",\"#9ecae1\",\"#c6dbef\",\"#e6550d\",\"#fd8d3c\",\"#fdae6b\",\"#fdd0a2\",\"#31a354\",\"#74c476\"],\"factors\":[\"TX\",\"CA\",\"IL\",\"FL\",\"OK\",\"LA\",\"GA\",\"KS\",\"CO\",\"MO\"]}}}}},\"nonselection_glyph\":{\"type\":\"object\",\"name\":\"VBar\",\"id\":\"p2409\",\"attributes\":{\"x\":{\"type\":\"field\",\"field\":\"State\"},\"width\":{\"type\":\"value\",\"value\":0.9},\"top\":{\"type\":\"field\",\"field\":\"Count\"},\"line_color\":{\"type\":\"value\",\"value\":\"#1f77b4\"},\"line_alpha\":{\"type\":\"value\",\"value\":0.1},\"fill_color\":{\"type\":\"field\",\"field\":\"State\",\"transform\":{\"id\":\"p2404\"}},\"fill_alpha\":{\"type\":\"value\",\"value\":0.1},\"hatch_alpha\":{\"type\":\"value\",\"value\":0.1}}},\"muted_glyph\":{\"type\":\"object\",\"name\":\"VBar\",\"id\":\"p2410\",\"attributes\":{\"x\":{\"type\":\"field\",\"field\":\"State\"},\"width\":{\"type\":\"value\",\"value\":0.9},\"top\":{\"type\":\"field\",\"field\":\"Count\"},\"line_color\":{\"type\":\"value\",\"value\":\"#1f77b4\"},\"line_alpha\":{\"type\":\"value\",\"value\":0.2},\"fill_color\":{\"type\":\"field\",\"field\":\"State\",\"transform\":{\"id\":\"p2404\"}},\"fill_alpha\":{\"type\":\"value\",\"value\":0.2},\"hatch_alpha\":{\"type\":\"value\",\"value\":0.2}}}}}],\"toolbar\":{\"type\":\"object\",\"name\":\"Toolbar\",\"id\":\"p2379\",\"attributes\":{\"tools\":[{\"type\":\"object\",\"name\":\"PanTool\",\"id\":\"p2393\"},{\"type\":\"object\",\"name\":\"WheelZoomTool\",\"id\":\"p2394\",\"attributes\":{\"renderers\":\"auto\"}},{\"type\":\"object\",\"name\":\"BoxZoomTool\",\"id\":\"p2395\",\"attributes\":{\"overlay\":{\"type\":\"object\",\"name\":\"BoxAnnotation\",\"id\":\"p2396\",\"attributes\":{\"syncable\":false,\"level\":\"overlay\",\"visible\":false,\"left\":{\"type\":\"number\",\"value\":\"nan\"},\"right\":{\"type\":\"number\",\"value\":\"nan\"},\"top\":{\"type\":\"number\",\"value\":\"nan\"},\"bottom\":{\"type\":\"number\",\"value\":\"nan\"},\"left_units\":\"canvas\",\"right_units\":\"canvas\",\"top_units\":\"canvas\",\"bottom_units\":\"canvas\",\"line_color\":\"black\",\"line_alpha\":1.0,\"line_width\":2,\"line_dash\":[4,4],\"fill_color\":\"lightgrey\",\"fill_alpha\":0.5}}}},{\"type\":\"object\",\"name\":\"SaveTool\",\"id\":\"p2401\"},{\"type\":\"object\",\"name\":\"ResetTool\",\"id\":\"p2402\"},{\"type\":\"object\",\"name\":\"HelpTool\",\"id\":\"p2403\"}]}},\"left\":[{\"type\":\"object\",\"name\":\"LinearAxis\",\"id\":\"p2388\",\"attributes\":{\"ticker\":{\"type\":\"object\",\"name\":\"BasicTicker\",\"id\":\"p2389\",\"attributes\":{\"mantissas\":[1,2,5]}},\"formatter\":{\"type\":\"object\",\"name\":\"BasicTickFormatter\",\"id\":\"p2390\"},\"major_label_policy\":{\"type\":\"object\",\"name\":\"AllLabels\",\"id\":\"p2391\"}}}],\"below\":[{\"type\":\"object\",\"name\":\"CategoricalAxis\",\"id\":\"p2383\",\"attributes\":{\"ticker\":{\"type\":\"object\",\"name\":\"CategoricalTicker\",\"id\":\"p2384\"},\"formatter\":{\"type\":\"object\",\"name\":\"CategoricalTickFormatter\",\"id\":\"p2385\"},\"major_label_policy\":{\"type\":\"object\",\"name\":\"AllLabels\",\"id\":\"p2386\"}}}],\"center\":[{\"type\":\"object\",\"name\":\"Grid\",\"id\":\"p2387\",\"attributes\":{\"axis\":{\"id\":\"p2383\"},\"grid_line_color\":null}},{\"type\":\"object\",\"name\":\"Grid\",\"id\":\"p2392\",\"attributes\":{\"dimension\":1,\"axis\":{\"id\":\"p2388\"}}},{\"type\":\"object\",\"name\":\"Legend\",\"id\":\"p2414\",\"attributes\":{\"location\":\"top_center\",\"orientation\":\"horizontal\",\"items\":[{\"type\":\"object\",\"name\":\"LegendItem\",\"id\":\"p2415\",\"attributes\":{\"label\":{\"type\":\"field\",\"field\":\"State\"},\"renderers\":[{\"id\":\"p2411\"}]}}]}}]}}]}};\n  const render_items = [{\"docid\":\"e3b83ef3-02a6-4522-9119-67277fd23368\",\"roots\":{\"p2371\":\"c808e5ad-c905-407c-aed2-24eb750b625a\"},\"root_ids\":[\"p2371\"]}];\n  root.Bokeh.embed.embed_items_notebook(docs_json, render_items);\n  }\n  if (root.Bokeh !== undefined) {\n    embed_document(root);\n  } else {\n    let attempts = 0;\n    const timer = setInterval(function(root) {\n      if (root.Bokeh !== undefined) {\n        clearInterval(timer);\n        embed_document(root);\n      } else {\n        attempts++;\n        if (attempts > 100) {\n          clearInterval(timer);\n          console.log(\"Bokeh: ERROR: Unable to run BokehJS code because BokehJS library is missing\");\n        }\n      }\n    }, 10, root)\n  }\n})(window);",
      "application/vnd.bokehjs_exec.v0+json": ""
     },
     "metadata": {
      "application/vnd.bokehjs_exec.v0+json": {
       "id": "p2371"
      }
     },
     "output_type": "display_data"
    }
   ],
   "source": [
    "p = make_barchart(df.head(10), 'State', 'Count', kwargs_figure={'width': 640, 'height': 320})\n",
    "show(p)"
   ]
  },
  {
   "cell_type": "markdown",
   "metadata": {},
   "source": [
    "## What is the total estimated loss per year?"
   ]
  },
  {
   "cell_type": "code",
   "execution_count": null,
   "metadata": {},
   "outputs": [
    {
     "name": "stdout",
     "output_type": "stream",
     "text": [
      "The First 5 Years with Loss\n",
      "   Year  Total_Loss  Average_Loss\n",
      "0  1980     63242.0       3513.44\n",
      "1  1981   2611886.0      76820.18\n",
      "2  1982   2720845.0      27763.72\n",
      "3  1983   1829052.0      18856.21\n",
      "4  1984   2525581.0      24520.20\n",
      "....\n",
      "The Last 5 Years with Loss\n",
      "    Year  Total_Loss  Average_Loss\n",
      "35  2017   1053966.0     131745.75\n",
      "36  2019     25259.0       6314.75\n",
      "37  2020     90907.0      22726.75\n",
      "38  2023  39094732.0    7818946.40\n",
      "39  2024         NaN           NaN\n"
     ]
    }
   ],
   "source": [
    "query = '''\n",
    "     SELECT SUBSTR(fail_date,-4) as Year, SUM(ESTIMATED_LOSS) as Total_Loss, ROUND(AVG(ESTIMATED_LOSS),2) as Average_Loss\n",
    "     FROM BANKFAILURES\n",
    "     GROUP BY 1\n",
    "'''\n",
    "df = pd.read_sql_query(query,disk_engine)\n",
    "\n",
    "print(\"The First 5 Years with Loss\")\n",
    "print(df.head())\n",
    "print('....')\n",
    "print(\"The Last 5 Years with Loss\")\n",
    "print(df.tail())"
   ]
  },
  {
   "cell_type": "code",
   "execution_count": null,
   "metadata": {},
   "outputs": [
    {
     "name": "stdout",
     "output_type": "stream",
     "text": [
      "The First 10 Years with Estimated Loss\n"
     ]
    },
    {
     "data": {
      "text/html": [
       "\n",
       "  <div id=\"b575c97b-39f5-4efe-86ad-aa452cf0faa7\" data-root-id=\"p2421\" style=\"display: contents;\"></div>\n"
      ]
     },
     "metadata": {},
     "output_type": "display_data"
    },
    {
     "data": {
      "application/javascript": "(function(root) {\n  function embed_document(root) {\n  const docs_json = {\"bce89229-655f-44e7-9df2-cecedaa75111\":{\"version\":\"3.3.4\",\"title\":\"Bokeh Application\",\"roots\":[{\"type\":\"object\",\"name\":\"Figure\",\"id\":\"p2421\",\"attributes\":{\"width\":640,\"height\":320,\"x_range\":{\"type\":\"object\",\"name\":\"FactorRange\",\"id\":\"p2430\",\"attributes\":{\"factors\":[\"1980\",\"1981\",\"1982\",\"1983\",\"1984\",\"1985\",\"1986\",\"1987\",\"1988\",\"1989\"]}},\"y_range\":{\"type\":\"object\",\"name\":\"DataRange1d\",\"id\":\"p2423\",\"attributes\":{\"start\":0}},\"x_scale\":{\"type\":\"object\",\"name\":\"CategoricalScale\",\"id\":\"p2431\"},\"y_scale\":{\"type\":\"object\",\"name\":\"LinearScale\",\"id\":\"p2432\"},\"title\":{\"type\":\"object\",\"name\":\"Title\",\"id\":\"p2428\"},\"renderers\":[{\"type\":\"object\",\"name\":\"GlyphRenderer\",\"id\":\"p2461\",\"attributes\":{\"data_source\":{\"type\":\"object\",\"name\":\"ColumnDataSource\",\"id\":\"p2418\",\"attributes\":{\"selected\":{\"type\":\"object\",\"name\":\"Selection\",\"id\":\"p2419\",\"attributes\":{\"indices\":[],\"line_indices\":[]}},\"selection_policy\":{\"type\":\"object\",\"name\":\"UnionRenderers\",\"id\":\"p2420\"},\"data\":{\"type\":\"map\",\"entries\":[[\"index\",{\"type\":\"ndarray\",\"array\":{\"type\":\"bytes\",\"data\":\"AAAAAAEAAAACAAAAAwAAAAQAAAAFAAAABgAAAAcAAAAIAAAACQAAAA==\"},\"shape\":[10],\"dtype\":\"int32\",\"order\":\"little\"}],[\"Year\",{\"type\":\"ndarray\",\"array\":[\"1980\",\"1981\",\"1982\",\"1983\",\"1984\",\"1985\",\"1986\",\"1987\",\"1988\",\"1989\"],\"shape\":[10],\"dtype\":\"object\",\"order\":\"little\"}],[\"Total_Loss\",{\"type\":\"ndarray\",\"array\":{\"type\":\"bytes\",\"data\":\"AAAAAEDh7kAAAAAAV+1DQQAAAIAmwkRBAAAAALzoO0EAAACAxkRDQQAAAAA9zWFBAAAAIEMYZEEAAADAKutcQQAAAFCv5ohBAAAAkGV5iUE=\"},\"shape\":[10],\"dtype\":\"float64\",\"order\":\"little\"}],[\"Average_Loss\",{\"type\":\"ndarray\",\"array\":{\"type\":\"bytes\",\"data\":\"exSuR+Fyq0AUrkfhQsHyQEjhehTuHNtACtejcA1q0kDNzMzMDPLXQArXo3CddelASOF6FO4c6kDhehSu15zdQLgehesBa/tAmpmZmbls+EA=\"},\"shape\":[10],\"dtype\":\"float64\",\"order\":\"little\"}]]}}},\"view\":{\"type\":\"object\",\"name\":\"CDSView\",\"id\":\"p2462\",\"attributes\":{\"filter\":{\"type\":\"object\",\"name\":\"AllIndices\",\"id\":\"p2463\"}}},\"glyph\":{\"type\":\"object\",\"name\":\"VBar\",\"id\":\"p2458\",\"attributes\":{\"x\":{\"type\":\"field\",\"field\":\"Year\"},\"width\":{\"type\":\"value\",\"value\":0.9},\"top\":{\"type\":\"field\",\"field\":\"Total_Loss\"},\"line_color\":{\"type\":\"value\",\"value\":\"#1f77b4\"},\"fill_color\":{\"type\":\"field\",\"field\":\"Year\",\"transform\":{\"type\":\"object\",\"name\":\"CategoricalColorMapper\",\"id\":\"p2454\",\"attributes\":{\"palette\":[\"#3182bd\",\"#6baed6\",\"#9ecae1\",\"#c6dbef\",\"#e6550d\",\"#fd8d3c\",\"#fdae6b\",\"#fdd0a2\",\"#31a354\",\"#74c476\"],\"factors\":[\"1980\",\"1981\",\"1982\",\"1983\",\"1984\",\"1985\",\"1986\",\"1987\",\"1988\",\"1989\"]}}}}},\"nonselection_glyph\":{\"type\":\"object\",\"name\":\"VBar\",\"id\":\"p2459\",\"attributes\":{\"x\":{\"type\":\"field\",\"field\":\"Year\"},\"width\":{\"type\":\"value\",\"value\":0.9},\"top\":{\"type\":\"field\",\"field\":\"Total_Loss\"},\"line_color\":{\"type\":\"value\",\"value\":\"#1f77b4\"},\"line_alpha\":{\"type\":\"value\",\"value\":0.1},\"fill_color\":{\"type\":\"field\",\"field\":\"Year\",\"transform\":{\"id\":\"p2454\"}},\"fill_alpha\":{\"type\":\"value\",\"value\":0.1},\"hatch_alpha\":{\"type\":\"value\",\"value\":0.1}}},\"muted_glyph\":{\"type\":\"object\",\"name\":\"VBar\",\"id\":\"p2460\",\"attributes\":{\"x\":{\"type\":\"field\",\"field\":\"Year\"},\"width\":{\"type\":\"value\",\"value\":0.9},\"top\":{\"type\":\"field\",\"field\":\"Total_Loss\"},\"line_color\":{\"type\":\"value\",\"value\":\"#1f77b4\"},\"line_alpha\":{\"type\":\"value\",\"value\":0.2},\"fill_color\":{\"type\":\"field\",\"field\":\"Year\",\"transform\":{\"id\":\"p2454\"}},\"fill_alpha\":{\"type\":\"value\",\"value\":0.2},\"hatch_alpha\":{\"type\":\"value\",\"value\":0.2}}}}}],\"toolbar\":{\"type\":\"object\",\"name\":\"Toolbar\",\"id\":\"p2429\",\"attributes\":{\"tools\":[{\"type\":\"object\",\"name\":\"PanTool\",\"id\":\"p2443\"},{\"type\":\"object\",\"name\":\"WheelZoomTool\",\"id\":\"p2444\",\"attributes\":{\"renderers\":\"auto\"}},{\"type\":\"object\",\"name\":\"BoxZoomTool\",\"id\":\"p2445\",\"attributes\":{\"overlay\":{\"type\":\"object\",\"name\":\"BoxAnnotation\",\"id\":\"p2446\",\"attributes\":{\"syncable\":false,\"level\":\"overlay\",\"visible\":false,\"left\":{\"type\":\"number\",\"value\":\"nan\"},\"right\":{\"type\":\"number\",\"value\":\"nan\"},\"top\":{\"type\":\"number\",\"value\":\"nan\"},\"bottom\":{\"type\":\"number\",\"value\":\"nan\"},\"left_units\":\"canvas\",\"right_units\":\"canvas\",\"top_units\":\"canvas\",\"bottom_units\":\"canvas\",\"line_color\":\"black\",\"line_alpha\":1.0,\"line_width\":2,\"line_dash\":[4,4],\"fill_color\":\"lightgrey\",\"fill_alpha\":0.5}}}},{\"type\":\"object\",\"name\":\"SaveTool\",\"id\":\"p2451\"},{\"type\":\"object\",\"name\":\"ResetTool\",\"id\":\"p2452\"},{\"type\":\"object\",\"name\":\"HelpTool\",\"id\":\"p2453\"}]}},\"left\":[{\"type\":\"object\",\"name\":\"LinearAxis\",\"id\":\"p2438\",\"attributes\":{\"ticker\":{\"type\":\"object\",\"name\":\"BasicTicker\",\"id\":\"p2439\",\"attributes\":{\"mantissas\":[1,2,5]}},\"formatter\":{\"type\":\"object\",\"name\":\"BasicTickFormatter\",\"id\":\"p2440\"},\"major_label_policy\":{\"type\":\"object\",\"name\":\"AllLabels\",\"id\":\"p2441\"}}}],\"below\":[{\"type\":\"object\",\"name\":\"CategoricalAxis\",\"id\":\"p2433\",\"attributes\":{\"ticker\":{\"type\":\"object\",\"name\":\"CategoricalTicker\",\"id\":\"p2434\"},\"formatter\":{\"type\":\"object\",\"name\":\"CategoricalTickFormatter\",\"id\":\"p2435\"},\"major_label_policy\":{\"type\":\"object\",\"name\":\"AllLabels\",\"id\":\"p2436\"}}}],\"center\":[{\"type\":\"object\",\"name\":\"Grid\",\"id\":\"p2437\",\"attributes\":{\"axis\":{\"id\":\"p2433\"},\"grid_line_color\":null}},{\"type\":\"object\",\"name\":\"Grid\",\"id\":\"p2442\",\"attributes\":{\"dimension\":1,\"axis\":{\"id\":\"p2438\"}}},{\"type\":\"object\",\"name\":\"Legend\",\"id\":\"p2464\",\"attributes\":{\"location\":\"top_center\",\"orientation\":\"horizontal\",\"items\":[{\"type\":\"object\",\"name\":\"LegendItem\",\"id\":\"p2465\",\"attributes\":{\"label\":{\"type\":\"field\",\"field\":\"Year\"},\"renderers\":[{\"id\":\"p2461\"}]}}]}}]}}]}};\n  const render_items = [{\"docid\":\"bce89229-655f-44e7-9df2-cecedaa75111\",\"roots\":{\"p2421\":\"b575c97b-39f5-4efe-86ad-aa452cf0faa7\"},\"root_ids\":[\"p2421\"]}];\n  root.Bokeh.embed.embed_items_notebook(docs_json, render_items);\n  }\n  if (root.Bokeh !== undefined) {\n    embed_document(root);\n  } else {\n    let attempts = 0;\n    const timer = setInterval(function(root) {\n      if (root.Bokeh !== undefined) {\n        clearInterval(timer);\n        embed_document(root);\n      } else {\n        attempts++;\n        if (attempts > 100) {\n          clearInterval(timer);\n          console.log(\"Bokeh: ERROR: Unable to run BokehJS code because BokehJS library is missing\");\n        }\n      }\n    }, 10, root)\n  }\n})(window);",
      "application/vnd.bokehjs_exec.v0+json": ""
     },
     "metadata": {
      "application/vnd.bokehjs_exec.v0+json": {
       "id": "p2421"
      }
     },
     "output_type": "display_data"
    },
    {
     "name": "stdout",
     "output_type": "stream",
     "text": [
      "The Last 10 Years with Estimated Loss\n"
     ]
    },
    {
     "data": {
      "text/html": [
       "\n",
       "  <div id=\"b32c9bda-f582-46df-b5e6-150105bdfb07\" data-root-id=\"p2472\" style=\"display: contents;\"></div>\n"
      ]
     },
     "metadata": {},
     "output_type": "display_data"
    },
    {
     "data": {
      "application/javascript": "(function(root) {\n  function embed_document(root) {\n  const docs_json = {\"6fa70f66-2b29-4705-814b-5a7abc61c668\":{\"version\":\"3.3.4\",\"title\":\"Bokeh Application\",\"roots\":[{\"type\":\"object\",\"name\":\"Figure\",\"id\":\"p2472\",\"attributes\":{\"width\":640,\"height\":320,\"x_range\":{\"type\":\"object\",\"name\":\"FactorRange\",\"id\":\"p2481\",\"attributes\":{\"factors\":[\"2012\",\"2013\",\"2014\",\"2015\",\"2016\",\"2017\",\"2019\",\"2020\",\"2023\",\"2024\"]}},\"y_range\":{\"type\":\"object\",\"name\":\"DataRange1d\",\"id\":\"p2474\",\"attributes\":{\"start\":0}},\"x_scale\":{\"type\":\"object\",\"name\":\"CategoricalScale\",\"id\":\"p2482\"},\"y_scale\":{\"type\":\"object\",\"name\":\"LinearScale\",\"id\":\"p2483\"},\"title\":{\"type\":\"object\",\"name\":\"Title\",\"id\":\"p2479\"},\"renderers\":[{\"type\":\"object\",\"name\":\"GlyphRenderer\",\"id\":\"p2512\",\"attributes\":{\"data_source\":{\"type\":\"object\",\"name\":\"ColumnDataSource\",\"id\":\"p2469\",\"attributes\":{\"selected\":{\"type\":\"object\",\"name\":\"Selection\",\"id\":\"p2470\",\"attributes\":{\"indices\":[],\"line_indices\":[]}},\"selection_policy\":{\"type\":\"object\",\"name\":\"UnionRenderers\",\"id\":\"p2471\"},\"data\":{\"type\":\"map\",\"entries\":[[\"index\",{\"type\":\"ndarray\",\"array\":{\"type\":\"bytes\",\"data\":\"HgAAAB8AAAAgAAAAIQAAACIAAAAjAAAAJAAAACUAAAAmAAAAJwAAAA==\"},\"shape\":[10],\"dtype\":\"int32\",\"order\":\"little\"}],[\"Year\",{\"type\":\"ndarray\",\"array\":[\"2012\",\"2013\",\"2014\",\"2015\",\"2016\",\"2017\",\"2019\",\"2020\",\"2023\",\"2024\"],\"shape\":[10],\"dtype\":\"object\",\"order\":\"little\"}],[\"Total_Loss\",{\"type\":\"ndarray\",\"array\":{\"type\":\"bytes\",\"data\":\"AAAAADYjQkEAAAAAGFoyQQAAAADoFxdBAAAAAHIpKkEAAAAAIL3kQAAAAAAOFTBBAAAAAMCq2EAAAAAAsDH2QAAAAGBOpIJBAAAAAAAA+H8=\"},\"shape\":[10],\"dtype\":\"float64\",\"order\":\"little\"}],[\"Average_Loss\",{\"type\":\"ndarray\",\"array\":{\"type\":\"bytes\",\"data\":\"ZmZmZsbC5kAAAAAAIHjoQKRwPQoHh9RASOF6FHIp+kDNzMzMTJfAQAAAAAAOFQBBAAAAAMCquEAAAAAAsDHWQJqZmZmw011BAAAAAAAA+H8=\"},\"shape\":[10],\"dtype\":\"float64\",\"order\":\"little\"}]]}}},\"view\":{\"type\":\"object\",\"name\":\"CDSView\",\"id\":\"p2513\",\"attributes\":{\"filter\":{\"type\":\"object\",\"name\":\"AllIndices\",\"id\":\"p2514\"}}},\"glyph\":{\"type\":\"object\",\"name\":\"VBar\",\"id\":\"p2509\",\"attributes\":{\"x\":{\"type\":\"field\",\"field\":\"Year\"},\"width\":{\"type\":\"value\",\"value\":0.9},\"top\":{\"type\":\"field\",\"field\":\"Total_Loss\"},\"line_color\":{\"type\":\"value\",\"value\":\"#1f77b4\"},\"fill_color\":{\"type\":\"field\",\"field\":\"Year\",\"transform\":{\"type\":\"object\",\"name\":\"CategoricalColorMapper\",\"id\":\"p2505\",\"attributes\":{\"palette\":[\"#3182bd\",\"#6baed6\",\"#9ecae1\",\"#c6dbef\",\"#e6550d\",\"#fd8d3c\",\"#fdae6b\",\"#fdd0a2\",\"#31a354\",\"#74c476\"],\"factors\":[\"2012\",\"2013\",\"2014\",\"2015\",\"2016\",\"2017\",\"2019\",\"2020\",\"2023\",\"2024\"]}}}}},\"nonselection_glyph\":{\"type\":\"object\",\"name\":\"VBar\",\"id\":\"p2510\",\"attributes\":{\"x\":{\"type\":\"field\",\"field\":\"Year\"},\"width\":{\"type\":\"value\",\"value\":0.9},\"top\":{\"type\":\"field\",\"field\":\"Total_Loss\"},\"line_color\":{\"type\":\"value\",\"value\":\"#1f77b4\"},\"line_alpha\":{\"type\":\"value\",\"value\":0.1},\"fill_color\":{\"type\":\"field\",\"field\":\"Year\",\"transform\":{\"id\":\"p2505\"}},\"fill_alpha\":{\"type\":\"value\",\"value\":0.1},\"hatch_alpha\":{\"type\":\"value\",\"value\":0.1}}},\"muted_glyph\":{\"type\":\"object\",\"name\":\"VBar\",\"id\":\"p2511\",\"attributes\":{\"x\":{\"type\":\"field\",\"field\":\"Year\"},\"width\":{\"type\":\"value\",\"value\":0.9},\"top\":{\"type\":\"field\",\"field\":\"Total_Loss\"},\"line_color\":{\"type\":\"value\",\"value\":\"#1f77b4\"},\"line_alpha\":{\"type\":\"value\",\"value\":0.2},\"fill_color\":{\"type\":\"field\",\"field\":\"Year\",\"transform\":{\"id\":\"p2505\"}},\"fill_alpha\":{\"type\":\"value\",\"value\":0.2},\"hatch_alpha\":{\"type\":\"value\",\"value\":0.2}}}}}],\"toolbar\":{\"type\":\"object\",\"name\":\"Toolbar\",\"id\":\"p2480\",\"attributes\":{\"tools\":[{\"type\":\"object\",\"name\":\"PanTool\",\"id\":\"p2494\"},{\"type\":\"object\",\"name\":\"WheelZoomTool\",\"id\":\"p2495\",\"attributes\":{\"renderers\":\"auto\"}},{\"type\":\"object\",\"name\":\"BoxZoomTool\",\"id\":\"p2496\",\"attributes\":{\"overlay\":{\"type\":\"object\",\"name\":\"BoxAnnotation\",\"id\":\"p2497\",\"attributes\":{\"syncable\":false,\"level\":\"overlay\",\"visible\":false,\"left\":{\"type\":\"number\",\"value\":\"nan\"},\"right\":{\"type\":\"number\",\"value\":\"nan\"},\"top\":{\"type\":\"number\",\"value\":\"nan\"},\"bottom\":{\"type\":\"number\",\"value\":\"nan\"},\"left_units\":\"canvas\",\"right_units\":\"canvas\",\"top_units\":\"canvas\",\"bottom_units\":\"canvas\",\"line_color\":\"black\",\"line_alpha\":1.0,\"line_width\":2,\"line_dash\":[4,4],\"fill_color\":\"lightgrey\",\"fill_alpha\":0.5}}}},{\"type\":\"object\",\"name\":\"SaveTool\",\"id\":\"p2502\"},{\"type\":\"object\",\"name\":\"ResetTool\",\"id\":\"p2503\"},{\"type\":\"object\",\"name\":\"HelpTool\",\"id\":\"p2504\"}]}},\"left\":[{\"type\":\"object\",\"name\":\"LinearAxis\",\"id\":\"p2489\",\"attributes\":{\"ticker\":{\"type\":\"object\",\"name\":\"BasicTicker\",\"id\":\"p2490\",\"attributes\":{\"mantissas\":[1,2,5]}},\"formatter\":{\"type\":\"object\",\"name\":\"BasicTickFormatter\",\"id\":\"p2491\"},\"major_label_policy\":{\"type\":\"object\",\"name\":\"AllLabels\",\"id\":\"p2492\"}}}],\"below\":[{\"type\":\"object\",\"name\":\"CategoricalAxis\",\"id\":\"p2484\",\"attributes\":{\"ticker\":{\"type\":\"object\",\"name\":\"CategoricalTicker\",\"id\":\"p2485\"},\"formatter\":{\"type\":\"object\",\"name\":\"CategoricalTickFormatter\",\"id\":\"p2486\"},\"major_label_policy\":{\"type\":\"object\",\"name\":\"AllLabels\",\"id\":\"p2487\"}}}],\"center\":[{\"type\":\"object\",\"name\":\"Grid\",\"id\":\"p2488\",\"attributes\":{\"axis\":{\"id\":\"p2484\"},\"grid_line_color\":null}},{\"type\":\"object\",\"name\":\"Grid\",\"id\":\"p2493\",\"attributes\":{\"dimension\":1,\"axis\":{\"id\":\"p2489\"}}},{\"type\":\"object\",\"name\":\"Legend\",\"id\":\"p2515\",\"attributes\":{\"location\":\"top_center\",\"orientation\":\"horizontal\",\"items\":[{\"type\":\"object\",\"name\":\"LegendItem\",\"id\":\"p2516\",\"attributes\":{\"label\":{\"type\":\"field\",\"field\":\"Year\"},\"renderers\":[{\"id\":\"p2512\"}]}}]}}]}}]}};\n  const render_items = [{\"docid\":\"6fa70f66-2b29-4705-814b-5a7abc61c668\",\"roots\":{\"p2472\":\"b32c9bda-f582-46df-b5e6-150105bdfb07\"},\"root_ids\":[\"p2472\"]}];\n  root.Bokeh.embed.embed_items_notebook(docs_json, render_items);\n  }\n  if (root.Bokeh !== undefined) {\n    embed_document(root);\n  } else {\n    let attempts = 0;\n    const timer = setInterval(function(root) {\n      if (root.Bokeh !== undefined) {\n        clearInterval(timer);\n        embed_document(root);\n      } else {\n        attempts++;\n        if (attempts > 100) {\n          clearInterval(timer);\n          console.log(\"Bokeh: ERROR: Unable to run BokehJS code because BokehJS library is missing\");\n        }\n      }\n    }, 10, root)\n  }\n})(window);",
      "application/vnd.bokehjs_exec.v0+json": ""
     },
     "metadata": {
      "application/vnd.bokehjs_exec.v0+json": {
       "id": "p2472"
      }
     },
     "output_type": "display_data"
    }
   ],
   "source": [
    "print(\"The First 10 Years with Estimated Loss\")\n",
    "p = make_barchart(df.head(10), 'Year', 'Total_Loss', kwargs_figure={'width': 640, 'height': 320})\n",
    "show(p)\n",
    "print(\"The Last 10 Years with Estimated Loss\")\n",
    "p = make_barchart(df.tail(10), 'Year', 'Total_Loss', kwargs_figure={'width': 640, 'height': 320})\n",
    "show(p)"
   ]
  },
  {
   "cell_type": "markdown",
   "metadata": {},
   "source": [
    "### What is the total amount of deposits for each charter class of failed banks ?"
   ]
  },
  {
   "cell_type": "code",
   "execution_count": null,
   "metadata": {},
   "outputs": [
    {
     "data": {
      "text/html": [
       "<div>\n",
       "<style scoped>\n",
       "    .dataframe tbody tr th:only-of-type {\n",
       "        vertical-align: middle;\n",
       "    }\n",
       "\n",
       "    .dataframe tbody tr th {\n",
       "        vertical-align: top;\n",
       "    }\n",
       "\n",
       "    .dataframe thead th {\n",
       "        text-align: right;\n",
       "    }\n",
       "</style>\n",
       "<table border=\"1\" class=\"dataframe\">\n",
       "  <thead>\n",
       "    <tr style=\"text-align: right;\">\n",
       "      <th></th>\n",
       "      <th>CHARTER_CLASS</th>\n",
       "      <th>TOTAL_DEPOSITS</th>\n",
       "    </tr>\n",
       "  </thead>\n",
       "  <tbody>\n",
       "    <tr>\n",
       "      <th>0</th>\n",
       "      <td>MI</td>\n",
       "      <td>14071733.000000</td>\n",
       "    </tr>\n",
       "    <tr>\n",
       "      <th>1</th>\n",
       "      <td>N</td>\n",
       "      <td>1430212662.000000</td>\n",
       "    </tr>\n",
       "    <tr>\n",
       "      <th>2</th>\n",
       "      <td>NM</td>\n",
       "      <td>515179005.000000</td>\n",
       "    </tr>\n",
       "    <tr>\n",
       "      <th>3</th>\n",
       "      <td>SB</td>\n",
       "      <td>454000199.000000</td>\n",
       "    </tr>\n",
       "    <tr>\n",
       "      <th>4</th>\n",
       "      <td>SI</td>\n",
       "      <td>52741752.000000</td>\n",
       "    </tr>\n",
       "    <tr>\n",
       "      <th>5</th>\n",
       "      <td>SL</td>\n",
       "      <td>411096397.000000</td>\n",
       "    </tr>\n",
       "    <tr>\n",
       "      <th>6</th>\n",
       "      <td>SM</td>\n",
       "      <td>210842982.000000</td>\n",
       "    </tr>\n",
       "  </tbody>\n",
       "</table>\n",
       "</div>"
      ],
      "text/plain": [
       "  CHARTER_CLASS     TOTAL_DEPOSITS\n",
       "0            MI    14071733.000000\n",
       "1             N  1430212662.000000\n",
       "2            NM   515179005.000000\n",
       "3            SB   454000199.000000\n",
       "4            SI    52741752.000000\n",
       "5            SL   411096397.000000\n",
       "6            SM   210842982.000000"
      ]
     },
     "execution_count": 180,
     "metadata": {},
     "output_type": "execute_result"
    }
   ],
   "source": [
    "query = '''\n",
    "     SELECT CHARTER_CLASS, printf(\"%f\",ROUND(SUM(TOTAL_DEPOSITS))) AS TOTAL_DEPOSITS\n",
    "     FROM BANKFAILURES\n",
    "     GROUP BY 1\n",
    "'''\n",
    "df = pd.read_sql_query(query,disk_engine)\n",
    "df.head(10)"
   ]
  },
  {
   "cell_type": "code",
   "execution_count": null,
   "metadata": {},
   "outputs": [
    {
     "data": {
      "text/html": [
       "\n",
       "  <div id=\"f61952d6-40d9-4afd-bc90-c0f78fa3a6ea\" data-root-id=\"p2523\" style=\"display: contents;\"></div>\n"
      ]
     },
     "metadata": {},
     "output_type": "display_data"
    },
    {
     "data": {
      "application/javascript": "(function(root) {\n  function embed_document(root) {\n  const docs_json = {\"2182670f-8bfe-4714-bf83-0edcd27346bb\":{\"version\":\"3.3.4\",\"title\":\"Bokeh Application\",\"roots\":[{\"type\":\"object\",\"name\":\"Figure\",\"id\":\"p2523\",\"attributes\":{\"width\":640,\"height\":320,\"x_range\":{\"type\":\"object\",\"name\":\"FactorRange\",\"id\":\"p2532\",\"attributes\":{\"factors\":[\"MI\",\"N\",\"NM\",\"SB\",\"SI\",\"SL\",\"SM\"]}},\"y_range\":{\"type\":\"object\",\"name\":\"DataRange1d\",\"id\":\"p2525\",\"attributes\":{\"start\":0}},\"x_scale\":{\"type\":\"object\",\"name\":\"CategoricalScale\",\"id\":\"p2533\"},\"y_scale\":{\"type\":\"object\",\"name\":\"LinearScale\",\"id\":\"p2534\"},\"title\":{\"type\":\"object\",\"name\":\"Title\",\"id\":\"p2530\"},\"renderers\":[{\"type\":\"object\",\"name\":\"GlyphRenderer\",\"id\":\"p2563\",\"attributes\":{\"data_source\":{\"type\":\"object\",\"name\":\"ColumnDataSource\",\"id\":\"p2520\",\"attributes\":{\"selected\":{\"type\":\"object\",\"name\":\"Selection\",\"id\":\"p2521\",\"attributes\":{\"indices\":[],\"line_indices\":[]}},\"selection_policy\":{\"type\":\"object\",\"name\":\"UnionRenderers\",\"id\":\"p2522\"},\"data\":{\"type\":\"map\",\"entries\":[[\"index\",{\"type\":\"ndarray\",\"array\":{\"type\":\"bytes\",\"data\":\"AAAAAAEAAAACAAAAAwAAAAQAAAAFAAAABgAAAA==\"},\"shape\":[7],\"dtype\":\"int32\",\"order\":\"little\"}],[\"CHARTER_CLASS\",{\"type\":\"ndarray\",\"array\":[\"MI\",\"N\",\"NM\",\"SB\",\"SI\",\"SL\",\"SM\"],\"shape\":[7],\"dtype\":\"object\",\"order\":\"little\"}],[\"TOTAL_DEPOSITS\",{\"type\":\"ndarray\",\"array\":[\"14071733.000000\",\"1430212662.000000\",\"515179005.000000\",\"454000199.000000\",\"52741752.000000\",\"411096397.000000\",\"210842982.000000\"],\"shape\":[7],\"dtype\":\"object\",\"order\":\"little\"}]]}}},\"view\":{\"type\":\"object\",\"name\":\"CDSView\",\"id\":\"p2564\",\"attributes\":{\"filter\":{\"type\":\"object\",\"name\":\"AllIndices\",\"id\":\"p2565\"}}},\"glyph\":{\"type\":\"object\",\"name\":\"VBar\",\"id\":\"p2560\",\"attributes\":{\"x\":{\"type\":\"field\",\"field\":\"CHARTER_CLASS\"},\"width\":{\"type\":\"value\",\"value\":0.9},\"top\":{\"type\":\"field\",\"field\":\"TOTAL_DEPOSITS\"},\"line_color\":{\"type\":\"value\",\"value\":\"#1f77b4\"},\"fill_color\":{\"type\":\"field\",\"field\":\"CHARTER_CLASS\",\"transform\":{\"type\":\"object\",\"name\":\"CategoricalColorMapper\",\"id\":\"p2556\",\"attributes\":{\"palette\":[\"#3182bd\",\"#6baed6\",\"#9ecae1\",\"#c6dbef\",\"#e6550d\",\"#fd8d3c\",\"#fdae6b\",\"#fdd0a2\",\"#31a354\",\"#74c476\"],\"factors\":[\"MI\",\"N\",\"NM\",\"SB\",\"SI\",\"SL\",\"SM\"]}}}}},\"nonselection_glyph\":{\"type\":\"object\",\"name\":\"VBar\",\"id\":\"p2561\",\"attributes\":{\"x\":{\"type\":\"field\",\"field\":\"CHARTER_CLASS\"},\"width\":{\"type\":\"value\",\"value\":0.9},\"top\":{\"type\":\"field\",\"field\":\"TOTAL_DEPOSITS\"},\"line_color\":{\"type\":\"value\",\"value\":\"#1f77b4\"},\"line_alpha\":{\"type\":\"value\",\"value\":0.1},\"fill_color\":{\"type\":\"field\",\"field\":\"CHARTER_CLASS\",\"transform\":{\"id\":\"p2556\"}},\"fill_alpha\":{\"type\":\"value\",\"value\":0.1},\"hatch_alpha\":{\"type\":\"value\",\"value\":0.1}}},\"muted_glyph\":{\"type\":\"object\",\"name\":\"VBar\",\"id\":\"p2562\",\"attributes\":{\"x\":{\"type\":\"field\",\"field\":\"CHARTER_CLASS\"},\"width\":{\"type\":\"value\",\"value\":0.9},\"top\":{\"type\":\"field\",\"field\":\"TOTAL_DEPOSITS\"},\"line_color\":{\"type\":\"value\",\"value\":\"#1f77b4\"},\"line_alpha\":{\"type\":\"value\",\"value\":0.2},\"fill_color\":{\"type\":\"field\",\"field\":\"CHARTER_CLASS\",\"transform\":{\"id\":\"p2556\"}},\"fill_alpha\":{\"type\":\"value\",\"value\":0.2},\"hatch_alpha\":{\"type\":\"value\",\"value\":0.2}}}}}],\"toolbar\":{\"type\":\"object\",\"name\":\"Toolbar\",\"id\":\"p2531\",\"attributes\":{\"tools\":[{\"type\":\"object\",\"name\":\"PanTool\",\"id\":\"p2545\"},{\"type\":\"object\",\"name\":\"WheelZoomTool\",\"id\":\"p2546\",\"attributes\":{\"renderers\":\"auto\"}},{\"type\":\"object\",\"name\":\"BoxZoomTool\",\"id\":\"p2547\",\"attributes\":{\"overlay\":{\"type\":\"object\",\"name\":\"BoxAnnotation\",\"id\":\"p2548\",\"attributes\":{\"syncable\":false,\"level\":\"overlay\",\"visible\":false,\"left\":{\"type\":\"number\",\"value\":\"nan\"},\"right\":{\"type\":\"number\",\"value\":\"nan\"},\"top\":{\"type\":\"number\",\"value\":\"nan\"},\"bottom\":{\"type\":\"number\",\"value\":\"nan\"},\"left_units\":\"canvas\",\"right_units\":\"canvas\",\"top_units\":\"canvas\",\"bottom_units\":\"canvas\",\"line_color\":\"black\",\"line_alpha\":1.0,\"line_width\":2,\"line_dash\":[4,4],\"fill_color\":\"lightgrey\",\"fill_alpha\":0.5}}}},{\"type\":\"object\",\"name\":\"SaveTool\",\"id\":\"p2553\"},{\"type\":\"object\",\"name\":\"ResetTool\",\"id\":\"p2554\"},{\"type\":\"object\",\"name\":\"HelpTool\",\"id\":\"p2555\"}]}},\"left\":[{\"type\":\"object\",\"name\":\"LinearAxis\",\"id\":\"p2540\",\"attributes\":{\"ticker\":{\"type\":\"object\",\"name\":\"BasicTicker\",\"id\":\"p2541\",\"attributes\":{\"mantissas\":[1,2,5]}},\"formatter\":{\"type\":\"object\",\"name\":\"BasicTickFormatter\",\"id\":\"p2542\"},\"major_label_policy\":{\"type\":\"object\",\"name\":\"AllLabels\",\"id\":\"p2543\"}}}],\"below\":[{\"type\":\"object\",\"name\":\"CategoricalAxis\",\"id\":\"p2535\",\"attributes\":{\"ticker\":{\"type\":\"object\",\"name\":\"CategoricalTicker\",\"id\":\"p2536\"},\"formatter\":{\"type\":\"object\",\"name\":\"CategoricalTickFormatter\",\"id\":\"p2537\"},\"major_label_policy\":{\"type\":\"object\",\"name\":\"AllLabels\",\"id\":\"p2538\"}}}],\"center\":[{\"type\":\"object\",\"name\":\"Grid\",\"id\":\"p2539\",\"attributes\":{\"axis\":{\"id\":\"p2535\"},\"grid_line_color\":null}},{\"type\":\"object\",\"name\":\"Grid\",\"id\":\"p2544\",\"attributes\":{\"dimension\":1,\"axis\":{\"id\":\"p2540\"}}},{\"type\":\"object\",\"name\":\"Legend\",\"id\":\"p2566\",\"attributes\":{\"location\":\"top_center\",\"orientation\":\"horizontal\",\"items\":[{\"type\":\"object\",\"name\":\"LegendItem\",\"id\":\"p2567\",\"attributes\":{\"label\":{\"type\":\"field\",\"field\":\"CHARTER_CLASS\"},\"renderers\":[{\"id\":\"p2563\"}]}}]}}]}}]}};\n  const render_items = [{\"docid\":\"2182670f-8bfe-4714-bf83-0edcd27346bb\",\"roots\":{\"p2523\":\"f61952d6-40d9-4afd-bc90-c0f78fa3a6ea\"},\"root_ids\":[\"p2523\"]}];\n  root.Bokeh.embed.embed_items_notebook(docs_json, render_items);\n  }\n  if (root.Bokeh !== undefined) {\n    embed_document(root);\n  } else {\n    let attempts = 0;\n    const timer = setInterval(function(root) {\n      if (root.Bokeh !== undefined) {\n        clearInterval(timer);\n        embed_document(root);\n      } else {\n        attempts++;\n        if (attempts > 100) {\n          clearInterval(timer);\n          console.log(\"Bokeh: ERROR: Unable to run BokehJS code because BokehJS library is missing\");\n        }\n      }\n    }, 10, root)\n  }\n})(window);",
      "application/vnd.bokehjs_exec.v0+json": ""
     },
     "metadata": {
      "application/vnd.bokehjs_exec.v0+json": {
       "id": "p2523"
      }
     },
     "output_type": "display_data"
    }
   ],
   "source": [
    "p = make_barchart(df.head(10), 'CHARTER_CLASS', 'TOTAL_DEPOSITS', kwargs_figure={'width': 640, 'height': 320})\n",
    "show(p)"
   ]
  },
  {
   "cell_type": "markdown",
   "metadata": {},
   "source": [
    "### Let import some Economic data by using the FRED api"
   ]
  },
  {
   "cell_type": "code",
   "execution_count": null,
   "metadata": {},
   "outputs": [
    {
     "name": "stdout",
     "output_type": "stream",
     "text": [
      "<bound method NDFrame.head of    realtime_start realtime_end        date      value\n",
      "0      2024-08-07   2024-08-07  1980-01-01   7257.316\n",
      "1      2024-08-07   2024-08-07  1981-01-01   7441.485\n",
      "2      2024-08-07   2024-08-07  1982-01-01   7307.314\n",
      "3      2024-08-07   2024-08-07  1983-01-01   7642.266\n",
      "4      2024-08-07   2024-08-07  1984-01-01   8195.295\n",
      "5      2024-08-07   2024-08-07  1985-01-01   8537.004\n",
      "6      2024-08-07   2024-08-07  1986-01-01   8832.611\n",
      "7      2024-08-07   2024-08-07  1987-01-01   9137.745\n",
      "8      2024-08-07   2024-08-07  1988-01-01   9519.427\n",
      "9      2024-08-07   2024-08-07  1989-01-01   9869.003\n",
      "10     2024-08-07   2024-08-07  1990-01-01  10055.129\n",
      "11     2024-08-07   2024-08-07  1991-01-01  10044.238\n",
      "12     2024-08-07   2024-08-07  1992-01-01  10398.046\n",
      "13     2024-08-07   2024-08-07  1993-01-01  10684.179\n",
      "14     2024-08-07   2024-08-07  1994-01-01  11114.647\n",
      "15     2024-08-07   2024-08-07  1995-01-01  11413.012\n",
      "16     2024-08-07   2024-08-07  1996-01-01  11843.599\n",
      "17     2024-08-07   2024-08-07  1997-01-01  12370.299\n",
      "18     2024-08-07   2024-08-07  1998-01-01  12924.876\n",
      "19     2024-08-07   2024-08-07  1999-01-01  13543.774\n",
      "20     2024-08-07   2024-08-07  2000-01-01  14096.033\n",
      "21     2024-08-07   2024-08-07  2001-01-01  14230.726\n",
      "22     2024-08-07   2024-08-07  2002-01-01  14472.712\n",
      "23     2024-08-07   2024-08-07  2003-01-01  14877.312\n",
      "24     2024-08-07   2024-08-07  2004-01-01  15449.757\n",
      "25     2024-08-07   2024-08-07  2005-01-01  15987.957\n",
      "26     2024-08-07   2024-08-07  2006-01-01  16433.148\n",
      "27     2024-08-07   2024-08-07  2007-01-01  16762.445\n",
      "28     2024-08-07   2024-08-07  2008-01-01  16781.485\n",
      "29     2024-08-07   2024-08-07  2009-01-01   16349.11\n",
      "30     2024-08-07   2024-08-07  2010-01-01   16789.75\n",
      "31     2024-08-07   2024-08-07  2011-01-01   17052.41\n",
      "32     2024-08-07   2024-08-07  2012-01-01  17442.759\n",
      "33     2024-08-07   2024-08-07  2013-01-01  17812.167\n",
      "34     2024-08-07   2024-08-07  2014-01-01  18261.714\n",
      "35     2024-08-07   2024-08-07  2015-01-01  18799.622\n",
      "36     2024-08-07   2024-08-07  2016-01-01  19141.672\n",
      "37     2024-08-07   2024-08-07  2017-01-01  19612.102\n",
      "38     2024-08-07   2024-08-07  2018-01-01  20193.896\n",
      "39     2024-08-07   2024-08-07  2019-01-01  20692.087\n",
      "40     2024-08-07   2024-08-07  2020-01-01  20234.074\n",
      "41     2024-08-07   2024-08-07  2021-01-01  21407.692\n",
      "42     2024-08-07   2024-08-07  2022-01-01  21822.037\n",
      "43     2024-08-07   2024-08-07  2023-01-01  22376.906>\n"
     ]
    }
   ],
   "source": [
    "import requests\n",
    "import pandas as pd\n",
    "from dotenv import load_dotenv\n",
    "import os\n",
    "import json\n",
    "from IPython.display import JSON\n",
    "# Load the environment variables from the '.env' file\n",
    "load_dotenv('key.env')\n",
    "# Get the API key from the environment variable\n",
    "api_key = os.getenv('apikey')\n",
    "\n",
    "# Ensure the API key is loaded\n",
    "if not api_key:\n",
    "    raise ValueError(\"API key is missing. Please check your 'key.env' file.\")\n",
    "\n",
    "# Define the base URL and parameters\n",
    "base_url = 'https://api.stlouisfed.org/fred/series/observations'\n",
    "params = {\n",
    "    'series_id': 'GDPCA',  # GDP in the US, annually adjusted\n",
    "    'api_key': api_key,\n",
    "    'file_type': 'json',\n",
    "    'frequency': 'a',  # Annual data\n",
    "    'observation_start': '1980-01-01'\n",
    "}\n",
    "# Function to fetch data from the API\n",
    "def fetch_data(url, params):\n",
    "    response = requests.get(url, params=params)\n",
    "    if response.status_code == 200:\n",
    "        return response.json()\n",
    "    else:\n",
    "        print(f\"Error: {response.status_code} - {response.text}\")\n",
    "        response.raise_for_status()\n",
    "\n",
    "# Fetch the data\n",
    "try:\n",
    "    data = fetch_data(base_url, params)\n",
    "    df_gdp = pd.DataFrame(data['observations'])\n",
    "    print(df_gdp.head)\n",
    "except Exception as e:\n",
    "    print(f\"An error occurred: {e}\")\n"
   ]
  },
  {
   "cell_type": "code",
   "execution_count": null,
   "metadata": {},
   "outputs": [
    {
     "data": {
      "text/html": [
       "<div>\n",
       "<style scoped>\n",
       "    .dataframe tbody tr th:only-of-type {\n",
       "        vertical-align: middle;\n",
       "    }\n",
       "\n",
       "    .dataframe tbody tr th {\n",
       "        vertical-align: top;\n",
       "    }\n",
       "\n",
       "    .dataframe thead th {\n",
       "        text-align: right;\n",
       "    }\n",
       "</style>\n",
       "<table border=\"1\" class=\"dataframe\">\n",
       "  <thead>\n",
       "    <tr style=\"text-align: right;\">\n",
       "      <th></th>\n",
       "      <th>realtime_start</th>\n",
       "      <th>realtime_end</th>\n",
       "      <th>date</th>\n",
       "      <th>value</th>\n",
       "    </tr>\n",
       "  </thead>\n",
       "  <tbody>\n",
       "    <tr>\n",
       "      <th>0</th>\n",
       "      <td>2024-08-07</td>\n",
       "      <td>2024-08-07</td>\n",
       "      <td>1980-01-01</td>\n",
       "      <td>7257.316</td>\n",
       "    </tr>\n",
       "    <tr>\n",
       "      <th>1</th>\n",
       "      <td>2024-08-07</td>\n",
       "      <td>2024-08-07</td>\n",
       "      <td>1981-01-01</td>\n",
       "      <td>7441.485</td>\n",
       "    </tr>\n",
       "    <tr>\n",
       "      <th>2</th>\n",
       "      <td>2024-08-07</td>\n",
       "      <td>2024-08-07</td>\n",
       "      <td>1982-01-01</td>\n",
       "      <td>7307.314</td>\n",
       "    </tr>\n",
       "    <tr>\n",
       "      <th>3</th>\n",
       "      <td>2024-08-07</td>\n",
       "      <td>2024-08-07</td>\n",
       "      <td>1983-01-01</td>\n",
       "      <td>7642.266</td>\n",
       "    </tr>\n",
       "    <tr>\n",
       "      <th>4</th>\n",
       "      <td>2024-08-07</td>\n",
       "      <td>2024-08-07</td>\n",
       "      <td>1984-01-01</td>\n",
       "      <td>8195.295</td>\n",
       "    </tr>\n",
       "  </tbody>\n",
       "</table>\n",
       "</div>"
      ],
      "text/plain": [
       "  realtime_start realtime_end        date     value\n",
       "0     2024-08-07   2024-08-07  1980-01-01  7257.316\n",
       "1     2024-08-07   2024-08-07  1981-01-01  7441.485\n",
       "2     2024-08-07   2024-08-07  1982-01-01  7307.314\n",
       "3     2024-08-07   2024-08-07  1983-01-01  7642.266\n",
       "4     2024-08-07   2024-08-07  1984-01-01  8195.295"
      ]
     },
     "execution_count": 183,
     "metadata": {},
     "output_type": "execute_result"
    }
   ],
   "source": [
    "df_gdp.to_sql(\"annual_gdp_growth\", disk_engine, if_exists='replace', index=False)\n",
    "df_gdp = pd.read_sql_query('SELECT * FROM ANNUAL_GDP_GROWTH;', disk_engine)\n",
    "df_gdp.head()"
   ]
  },
  {
   "cell_type": "code",
   "execution_count": null,
   "metadata": {},
   "outputs": [
    {
     "data": {
      "text/html": [
       "<div>\n",
       "<style scoped>\n",
       "    .dataframe tbody tr th:only-of-type {\n",
       "        vertical-align: middle;\n",
       "    }\n",
       "\n",
       "    .dataframe tbody tr th {\n",
       "        vertical-align: top;\n",
       "    }\n",
       "\n",
       "    .dataframe thead th {\n",
       "        text-align: right;\n",
       "    }\n",
       "</style>\n",
       "<table border=\"1\" class=\"dataframe\">\n",
       "  <thead>\n",
       "    <tr style=\"text-align: right;\">\n",
       "      <th></th>\n",
       "      <th>GDP_DATE</th>\n",
       "      <th>value</th>\n",
       "      <th>FAIL_YEAR</th>\n",
       "      <th>BANK_FAILURES</th>\n",
       "    </tr>\n",
       "  </thead>\n",
       "  <tbody>\n",
       "    <tr>\n",
       "      <th>0</th>\n",
       "      <td>1980</td>\n",
       "      <td>7257.316</td>\n",
       "      <td>1980</td>\n",
       "      <td>22</td>\n",
       "    </tr>\n",
       "    <tr>\n",
       "      <th>1</th>\n",
       "      <td>1981</td>\n",
       "      <td>7441.485</td>\n",
       "      <td>1981</td>\n",
       "      <td>40</td>\n",
       "    </tr>\n",
       "    <tr>\n",
       "      <th>2</th>\n",
       "      <td>1982</td>\n",
       "      <td>7307.314</td>\n",
       "      <td>1982</td>\n",
       "      <td>119</td>\n",
       "    </tr>\n",
       "    <tr>\n",
       "      <th>3</th>\n",
       "      <td>1983</td>\n",
       "      <td>7642.266</td>\n",
       "      <td>1983</td>\n",
       "      <td>99</td>\n",
       "    </tr>\n",
       "    <tr>\n",
       "      <th>4</th>\n",
       "      <td>1984</td>\n",
       "      <td>8195.295</td>\n",
       "      <td>1984</td>\n",
       "      <td>106</td>\n",
       "    </tr>\n",
       "    <tr>\n",
       "      <th>5</th>\n",
       "      <td>1985</td>\n",
       "      <td>8537.004</td>\n",
       "      <td>1985</td>\n",
       "      <td>180</td>\n",
       "    </tr>\n",
       "    <tr>\n",
       "      <th>6</th>\n",
       "      <td>1986</td>\n",
       "      <td>8832.611</td>\n",
       "      <td>1986</td>\n",
       "      <td>204</td>\n",
       "    </tr>\n",
       "    <tr>\n",
       "      <th>7</th>\n",
       "      <td>1987</td>\n",
       "      <td>9137.745</td>\n",
       "      <td>1987</td>\n",
       "      <td>262</td>\n",
       "    </tr>\n",
       "    <tr>\n",
       "      <th>8</th>\n",
       "      <td>1988</td>\n",
       "      <td>9519.427</td>\n",
       "      <td>1988</td>\n",
       "      <td>470</td>\n",
       "    </tr>\n",
       "    <tr>\n",
       "      <th>9</th>\n",
       "      <td>1989</td>\n",
       "      <td>9869.003</td>\n",
       "      <td>1989</td>\n",
       "      <td>534</td>\n",
       "    </tr>\n",
       "    <tr>\n",
       "      <th>10</th>\n",
       "      <td>1990</td>\n",
       "      <td>10055.129</td>\n",
       "      <td>1990</td>\n",
       "      <td>382</td>\n",
       "    </tr>\n",
       "    <tr>\n",
       "      <th>11</th>\n",
       "      <td>1991</td>\n",
       "      <td>10044.238</td>\n",
       "      <td>1991</td>\n",
       "      <td>271</td>\n",
       "    </tr>\n",
       "    <tr>\n",
       "      <th>12</th>\n",
       "      <td>1992</td>\n",
       "      <td>10398.046</td>\n",
       "      <td>1992</td>\n",
       "      <td>181</td>\n",
       "    </tr>\n",
       "    <tr>\n",
       "      <th>13</th>\n",
       "      <td>1993</td>\n",
       "      <td>10684.179</td>\n",
       "      <td>1993</td>\n",
       "      <td>50</td>\n",
       "    </tr>\n",
       "    <tr>\n",
       "      <th>14</th>\n",
       "      <td>1994</td>\n",
       "      <td>11114.647</td>\n",
       "      <td>1994</td>\n",
       "      <td>15</td>\n",
       "    </tr>\n",
       "    <tr>\n",
       "      <th>15</th>\n",
       "      <td>1995</td>\n",
       "      <td>11413.012</td>\n",
       "      <td>1995</td>\n",
       "      <td>8</td>\n",
       "    </tr>\n",
       "    <tr>\n",
       "      <th>16</th>\n",
       "      <td>1996</td>\n",
       "      <td>11843.599</td>\n",
       "      <td>1996</td>\n",
       "      <td>6</td>\n",
       "    </tr>\n",
       "    <tr>\n",
       "      <th>17</th>\n",
       "      <td>1997</td>\n",
       "      <td>12370.299</td>\n",
       "      <td>1997</td>\n",
       "      <td>1</td>\n",
       "    </tr>\n",
       "    <tr>\n",
       "      <th>18</th>\n",
       "      <td>1998</td>\n",
       "      <td>12924.876</td>\n",
       "      <td>1998</td>\n",
       "      <td>3</td>\n",
       "    </tr>\n",
       "    <tr>\n",
       "      <th>19</th>\n",
       "      <td>1999</td>\n",
       "      <td>13543.774</td>\n",
       "      <td>1999</td>\n",
       "      <td>8</td>\n",
       "    </tr>\n",
       "    <tr>\n",
       "      <th>20</th>\n",
       "      <td>2000</td>\n",
       "      <td>14096.033</td>\n",
       "      <td>2000</td>\n",
       "      <td>7</td>\n",
       "    </tr>\n",
       "    <tr>\n",
       "      <th>21</th>\n",
       "      <td>2001</td>\n",
       "      <td>14230.726</td>\n",
       "      <td>2001</td>\n",
       "      <td>4</td>\n",
       "    </tr>\n",
       "    <tr>\n",
       "      <th>22</th>\n",
       "      <td>2002</td>\n",
       "      <td>14472.712</td>\n",
       "      <td>2002</td>\n",
       "      <td>11</td>\n",
       "    </tr>\n",
       "    <tr>\n",
       "      <th>23</th>\n",
       "      <td>2003</td>\n",
       "      <td>14877.312</td>\n",
       "      <td>2003</td>\n",
       "      <td>3</td>\n",
       "    </tr>\n",
       "    <tr>\n",
       "      <th>24</th>\n",
       "      <td>2004</td>\n",
       "      <td>15449.757</td>\n",
       "      <td>2004</td>\n",
       "      <td>4</td>\n",
       "    </tr>\n",
       "    <tr>\n",
       "      <th>25</th>\n",
       "      <td>2007</td>\n",
       "      <td>16762.445</td>\n",
       "      <td>2007</td>\n",
       "      <td>3</td>\n",
       "    </tr>\n",
       "    <tr>\n",
       "      <th>26</th>\n",
       "      <td>2008</td>\n",
       "      <td>16781.485</td>\n",
       "      <td>2008</td>\n",
       "      <td>30</td>\n",
       "    </tr>\n",
       "    <tr>\n",
       "      <th>27</th>\n",
       "      <td>2009</td>\n",
       "      <td>16349.11</td>\n",
       "      <td>2009</td>\n",
       "      <td>148</td>\n",
       "    </tr>\n",
       "    <tr>\n",
       "      <th>28</th>\n",
       "      <td>2010</td>\n",
       "      <td>16789.75</td>\n",
       "      <td>2010</td>\n",
       "      <td>157</td>\n",
       "    </tr>\n",
       "    <tr>\n",
       "      <th>29</th>\n",
       "      <td>2011</td>\n",
       "      <td>17052.41</td>\n",
       "      <td>2011</td>\n",
       "      <td>92</td>\n",
       "    </tr>\n",
       "    <tr>\n",
       "      <th>30</th>\n",
       "      <td>2012</td>\n",
       "      <td>17442.759</td>\n",
       "      <td>2012</td>\n",
       "      <td>51</td>\n",
       "    </tr>\n",
       "    <tr>\n",
       "      <th>31</th>\n",
       "      <td>2013</td>\n",
       "      <td>17812.167</td>\n",
       "      <td>2013</td>\n",
       "      <td>24</td>\n",
       "    </tr>\n",
       "    <tr>\n",
       "      <th>32</th>\n",
       "      <td>2014</td>\n",
       "      <td>18261.714</td>\n",
       "      <td>2014</td>\n",
       "      <td>18</td>\n",
       "    </tr>\n",
       "    <tr>\n",
       "      <th>33</th>\n",
       "      <td>2015</td>\n",
       "      <td>18799.622</td>\n",
       "      <td>2015</td>\n",
       "      <td>8</td>\n",
       "    </tr>\n",
       "    <tr>\n",
       "      <th>34</th>\n",
       "      <td>2016</td>\n",
       "      <td>19141.672</td>\n",
       "      <td>2016</td>\n",
       "      <td>5</td>\n",
       "    </tr>\n",
       "    <tr>\n",
       "      <th>35</th>\n",
       "      <td>2017</td>\n",
       "      <td>19612.102</td>\n",
       "      <td>2017</td>\n",
       "      <td>8</td>\n",
       "    </tr>\n",
       "    <tr>\n",
       "      <th>36</th>\n",
       "      <td>2019</td>\n",
       "      <td>20692.087</td>\n",
       "      <td>2019</td>\n",
       "      <td>4</td>\n",
       "    </tr>\n",
       "    <tr>\n",
       "      <th>37</th>\n",
       "      <td>2020</td>\n",
       "      <td>20234.074</td>\n",
       "      <td>2020</td>\n",
       "      <td>4</td>\n",
       "    </tr>\n",
       "    <tr>\n",
       "      <th>38</th>\n",
       "      <td>2023</td>\n",
       "      <td>22376.906</td>\n",
       "      <td>2023</td>\n",
       "      <td>5</td>\n",
       "    </tr>\n",
       "  </tbody>\n",
       "</table>\n",
       "</div>"
      ],
      "text/plain": [
       "   GDP_DATE      value FAIL_YEAR  BANK_FAILURES\n",
       "0      1980   7257.316      1980             22\n",
       "1      1981   7441.485      1981             40\n",
       "2      1982   7307.314      1982            119\n",
       "3      1983   7642.266      1983             99\n",
       "4      1984   8195.295      1984            106\n",
       "5      1985   8537.004      1985            180\n",
       "6      1986   8832.611      1986            204\n",
       "7      1987   9137.745      1987            262\n",
       "8      1988   9519.427      1988            470\n",
       "9      1989   9869.003      1989            534\n",
       "10     1990  10055.129      1990            382\n",
       "11     1991  10044.238      1991            271\n",
       "12     1992  10398.046      1992            181\n",
       "13     1993  10684.179      1993             50\n",
       "14     1994  11114.647      1994             15\n",
       "15     1995  11413.012      1995              8\n",
       "16     1996  11843.599      1996              6\n",
       "17     1997  12370.299      1997              1\n",
       "18     1998  12924.876      1998              3\n",
       "19     1999  13543.774      1999              8\n",
       "20     2000  14096.033      2000              7\n",
       "21     2001  14230.726      2001              4\n",
       "22     2002  14472.712      2002             11\n",
       "23     2003  14877.312      2003              3\n",
       "24     2004  15449.757      2004              4\n",
       "25     2007  16762.445      2007              3\n",
       "26     2008  16781.485      2008             30\n",
       "27     2009   16349.11      2009            148\n",
       "28     2010   16789.75      2010            157\n",
       "29     2011   17052.41      2011             92\n",
       "30     2012  17442.759      2012             51\n",
       "31     2013  17812.167      2013             24\n",
       "32     2014  18261.714      2014             18\n",
       "33     2015  18799.622      2015              8\n",
       "34     2016  19141.672      2016              5\n",
       "35     2017  19612.102      2017              8\n",
       "36     2019  20692.087      2019              4\n",
       "37     2020  20234.074      2020              4\n",
       "38     2023  22376.906      2023              5"
      ]
     },
     "execution_count": 184,
     "metadata": {},
     "output_type": "execute_result"
    }
   ],
   "source": [
    "query = '''\n",
    "     SELECT DISTINCT STRFTIME('%Y',a.DATE) GDP_DATE, a.VALUE, SUBSTR(b.FAIL_DATE,-4) AS FAIL_YEAR, COUNT(b.ID) BANK_FAILURES\n",
    "     FROM BANKFAILURES b\n",
    "     JOIN ANNUAL_GDP_GROWTH a\n",
    "     ON FAIL_YEAR= GDP_DATE\n",
    "     GROUP BY 1,3\n",
    "     ORDER BY 1\n",
    "     \n",
    "'''\n",
    "df = pd.read_sql_query(query,disk_engine)\n",
    "df.head(50)"
   ]
  },
  {
   "cell_type": "code",
   "execution_count": null,
   "metadata": {},
   "outputs": [
    {
     "data": {
      "image/png": "[encoded data removed]",
      "text/plain": [
       "<Figure size 1400x900 with 2 Axes>"
      ]
     },
     "metadata": {},
     "output_type": "display_data"
    }
   ],
   "source": [
    "df['value'] = pd.to_numeric(df['value'], errors='coerce')\n",
    "df['BANK_FAILURES'] = pd.to_numeric(df['BANK_FAILURES'], errors='coerce')\n",
    "\n",
    "plt.figure(figsize=(14, 9))\n",
    "plt.xticks(rotation=45)\n",
    "plt.plot(df['GDP_DATE'], df['value'], label='GDP ($ Millions)', color='blue')\n",
    "plt.xlabel('Year')\n",
    "plt.ylabel('GDP ($ Millions)')\n",
    "plt.twinx()  # Create a second y-axis\n",
    "plt.xticks(rotation=45)\n",
    "plt.plot(df['GDP_DATE'], df['BANK_FAILURES'], label='Bank Failures', color='red')\n",
    "plt.ylabel('Number of Bank Failures')\n",
    "plt.title('GDP and Bank Failures Over Time')\n",
    "plt.legend()\n",
    "plt.show()"
   ]
  },
  {
   "cell_type": "code",
   "execution_count": null,
   "metadata": {},
   "outputs": [
    {
     "name": "stdout",
     "output_type": "stream",
     "text": [
      "The correlation coefficient between GDP and bank failures is: -0.4681847373846146\n"
     ]
    }
   ],
   "source": [
    "correlation = df['value'].corr(df['BANK_FAILURES'])\n",
    "print(f\"The correlation coefficient between GDP and bank failures is: {correlation}\")\n"
   ]
  },
  {
   "cell_type": "markdown",
   "metadata": {},
   "source": [
    "### Objective:\n",
    "The regression analysis aims to understand the relationship between GDP growth amd the number of bank failuresover the years 1980 to 2023. "
   ]
  },
  {
   "cell_type": "code",
   "execution_count": null,
   "metadata": {},
   "outputs": [
    {
     "name": "stdout",
     "output_type": "stream",
     "text": [
      "                            OLS Regression Results                            \n",
      "==============================================================================\n",
      "Dep. Variable:          BANK_FAILURES   R-squared:                       0.219\n",
      "Model:                            OLS   Adj. R-squared:                  0.198\n",
      "Method:                 Least Squares   F-statistic:                     10.39\n",
      "Date:                Wed, 07 Aug 2024   Prob (F-statistic):            0.00265\n",
      "Time:                        20:07:05   Log-Likelihood:                -240.91\n",
      "No. Observations:                  39   AIC:                             485.8\n",
      "Df Residuals:                      37   BIC:                             489.1\n",
      "Df Model:                           1                                         \n",
      "Covariance Type:            nonrobust                                         \n",
      "==============================================================================\n",
      "                 coef    std err          t      P>|t|      [0.025      0.975]\n",
      "------------------------------------------------------------------------------\n",
      "const        286.4109     63.602      4.503      0.000     157.542     415.280\n",
      "value         -0.0144      0.004     -3.223      0.003      -0.023      -0.005\n",
      "==============================================================================\n",
      "Omnibus:                       19.512   Durbin-Watson:                   0.279\n",
      "Prob(Omnibus):                  0.000   Jarque-Bera (JB):               25.717\n",
      "Skew:                           1.541   Prob(JB):                     2.60e-06\n",
      "Kurtosis:                       5.515   Cond. No.                     4.73e+04\n",
      "==============================================================================\n",
      "\n",
      "Notes:\n",
      "[1] Standard Errors assume that the covariance matrix of the errors is correctly specified.\n",
      "[2] The condition number is large, 4.73e+04. This might indicate that there are\n",
      "strong multicollinearity or other numerical problems.\n"
     ]
    }
   ],
   "source": [
    "import statsmodels.api as sm\n",
    "\n",
    "df['value'] = pd.to_numeric(df['value'], errors='coerce')\n",
    "df['BANK_FAILURES'] = pd.to_numeric(df['BANK_FAILURES'], errors='coerce')\n",
    "# Linear regression\n",
    "X = sm.add_constant(df['value'])  # adding a constant\n",
    "model = sm.OLS(df['BANK_FAILURES'], X).fit()\n",
    "print(model.summary())\n"
   ]
  },
  {
   "cell_type": "markdown",
   "metadata": {},
   "source": [
    "### **Key Findings**\n",
    "#### **1. Model Overview:** \n",
    "The **Dependent Variable** is *Bank Failures*, the **Independent Variable** is *GDP growth* and there are 39 number of observations.\n",
    "\n",
    "#### **2. Model Performance:**\n",
    "**R-squared**\n",
    "\n",
    "* The *R-squared* value of 0.219 indicates that approximately 21.9% of the variance in the number of bank failures is explained by the model. *Adjusted R-squared* for the number of predictors, about 19.8%.\n",
    "\n",
    "**F-statistic**\n",
    "\n",
    "* The model is statistic with a p-value of 0.00265, suggesting that the model provides a better fit than a model with no predictors.\n",
    "\n",
    "#### **3. Coefficients:**\n",
    "\n",
    "**Constant(Intercept):** 283.4109\n",
    "* This intercept represents that when the GDP is zero, the expected number of bank failures is approximately 286. This is a theoretical value primarily anchoring the regression line.\n",
    "\n",
    "**GDP (value):** -0.0144\n",
    "* For each one million dollar increase in GDP, there is a 1.44% unit decrease in the number of bank failures. The negative sign indicates an inverse relationship between GDP growth and bank failures.\n",
    "\n",
    "#### **4. Statistically Significance:**\n",
    "* The **p-value** for the GDP coefficient (0.003) shows that the relationship between GDP and bank failures is statistically significant at the 0.01 level.\n",
    "\n",
    "#### **5. Potential Issues:**\n",
    "* **Multicollearity:** The large condition number (47300) suggests potential multicollinearity issues.\n",
    "* **Autocorrelation:** The Durbin-Watson statistic points to positive autocorrelation, which can impact the models effectiveness.\n",
    "\n",
    "### **Recommendations:**\n",
    "#### Further Analysis:\n",
    "* Addressing the potential issues such as autocorrelation, multicollinearity, and non-normality of residuals.\n",
    "* Adding additional economic indicators such as unemployment rates, interest rates, and inflation rates to capture a broader range of factors influencing bank failures.\n",
    "* We can seek to use more models to better handle the time dependent nature of the data and to improve the predictive accuracy.\n",
    "\n",
    "\n",
    "\n",
    "\n",
    "\n",
    "\n",
    "\n",
    "\n",
    "\n",
    "\n",
    "\n"
   ]
  },
  {
   "cell_type": "markdown",
   "metadata": {},
   "source": []
  }
 ],
 "metadata": {
  "kernelspec": {
   "display_name": "Python 3 (ipykernel)",
   "language": "python",
   "name": "python3"
  },
  "language_info": {
   "codemirror_mode": {
    "name": "ipython",
    "version": 3
   },
   "file_extension": ".py",
   "mimetype": "text/x-python",
   "name": "python",
   "nbconvert_exporter": "python",
   "pygments_lexer": "ipython3",
   "version": "3.11.7"
  }
 },
 "nbformat": 4,
 "nbformat_minor": 2
}
