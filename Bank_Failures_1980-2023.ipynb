{
 "cells": [
  {
   "cell_type": "code",
   "execution_count": 1,
   "metadata": {
    "scrolled": true
   },
   "outputs": [],
   "source": [
    "import sqlite3 as db\n",
    "import pandas as pd"
   ]
  },
  {
   "cell_type": "code",
   "execution_count": null,
   "metadata": {},
   "outputs": [],
   "source": [
    "import pandas as pd\n",
    "from bokeh.plotting import figure, show\n",
    "from bokeh.models import ColumnDataSource\n",
    "from bokeh.transform import factor_cmap\n",
    "from bokeh.io import output_notebook\n",
    "\n",
    "# Initialize Bokeh to output in the notebook\n",
    "output_notebook()\n",
    "\n",
    "def make_barchart(df, x_col, y_col, kwargs_figure=None):\n",
    "    if kwargs_figure is None:\n",
    "        kwargs_figure = {}\n",
    "\n",
    "    # Prepare the data source for Bokeh\n",
    "    source = ColumnDataSource(df)\n",
    "\n",
    "    # Get unique values for x-axis\n",
    "    x_values = df[x_col].unique().tolist()\n",
    "\n",
    "    # Define a suitable palette based on the number of unique x_values\n",
    "    palette = ['#3182bd', '#6baed6', '#9ecae1', '#c6dbef', '#e6550d', '#fd8d3c', '#fdae6b', '#fdd0a2', '#31a354', '#74c476']\n",
    "\n",
    "    # Create a Bokeh figure\n",
    "    p = figure(x_range=x_values, **kwargs_figure)\n",
    "\n",
    "    # Create color map based on the factors and palette\n",
    "    colors = factor_cmap(x_col, palette=palette, factors=x_values)\n",
    "\n",
    "    # Add bars to the figure\n",
    "    p.vbar(x=x_col, top=y_col, width=0.9, source=source, legend_field=x_col, fill_color=colors)\n",
    "\n",
    "    # Customize the figure\n",
    "    p.xgrid.grid_line_color = None\n",
    "    p.y_range.start = 0\n",
    "    p.legend.orientation = \"horizontal\"\n",
    "    p.legend.location = \"top_center\"\n",
    "\n",
    "    return p\n",
    "\n",
    "# Example usage\n",
    "baby_names = pd.DataFrame({\n",
    "    'Names': ['Alice', 'Bob', 'Charlie', 'David', 'Eva'],\n",
    "    'Births': [100, 80, 60, 70, 90]\n",
    "})\n",
    "\n",
    "p = make_barchart(baby_names, 'Names', 'Births', kwargs_figure={'width': 640, 'height': 320})\n",
    "show(p)\n"
   ]
  },
  {
   "cell_type": "markdown",
   "metadata": {},
   "source": []
  },
  {
   "cell_type": "code",
   "execution_count": 2,
   "metadata": {},
   "outputs": [
    {
     "data": {
      "text/plain": [
       "3548"
      ]
     },
     "execution_count": 2,
     "metadata": {},
     "output_type": "execute_result"
    }
   ],
   "source": [
    "df = pd.read_csv('/Users/dariushammond/Desktop/Projects/Bank Failures/bank-data.csv')\n",
    "\n",
    "disk_engine = db.connect('bank_failures.db')\n",
    "\n",
    "c = disk_engine.cursor()\n",
    "df.to_sql(\"bankfailures\", disk_engine, if_exists='replace', index=False)\n"
   ]
  },
  {
   "cell_type": "markdown",
   "metadata": {},
   "source": [
    "# Bank Failures Dataset\n",
    "\n",
    "## Columns and Descriptions\n",
    "\n",
    "1. **Institution Name**\n",
    "   - **Description:** The name of the failed bank.\n",
    "   \n",
    "2. **Cert**\n",
    "   - **Description:** The unique certificate number assigned to the bank by the FDIC.\n",
    "   \n",
    "3. **FIN**\n",
    "   - **Description:** The Federal Information Number, a unique identifier for financial institutions.\n",
    "   \n",
    "4. **Location**\n",
    "   - **Description:** The city and state where the bank was headquartered.\n",
    "   \n",
    "5. **Effective Date**\n",
    "   - **Description:** The date when the bank failure was officially recorded.\n",
    "   \n",
    "6. **Insurance Fund**\n",
    "   - **Description:** The insurance fund responsible for covering the bank's deposits.\n",
    "   \n",
    "7. **Resolution**\n",
    "   - **Description:** The method used to resolve the bank's failure, such as payout or acquisition by another bank.\n",
    "   \n",
    "8. **Estimated Loss**\n",
    "   - **Description:** The estimated financial loss resulting from the bank's failure.\n",
    "   \n",
    "9. **Transaction Type**\n",
    "   - **Description:** The type of transaction used to resolve the bank, such as a purchase and assumption (P&A) or insured deposit transfer (IDT).\n",
    "   \n",
    "10. **Charter Class**\n",
    "    - **Description:** The charter class of the bank, indicating whether it was a national or state-chartered bank.\n",
    "    \n",
    "11. **Total Deposits**\n",
    "    - **Description:** The total amount of deposits held by the bank at the time of its failure.\n",
    "    \n",
    "12. **Total Assets**\n",
    "    - **Description:** The total amount of assets held by the bank at the time of its failure.\n"
   ]
  },
  {
   "cell_type": "code",
   "execution_count": 3,
   "metadata": {
    "scrolled": true
   },
   "outputs": [
    {
     "data": {
      "text/html": [
       "<div>\n",
       "<style scoped>\n",
       "    .dataframe tbody tr th:only-of-type {\n",
       "        vertical-align: middle;\n",
       "    }\n",
       "\n",
       "    .dataframe tbody tr th {\n",
       "        vertical-align: top;\n",
       "    }\n",
       "\n",
       "    .dataframe thead th {\n",
       "        text-align: right;\n",
       "    }\n",
       "</style>\n",
       "<table border=\"1\" class=\"dataframe\">\n",
       "  <thead>\n",
       "    <tr style=\"text-align: right;\">\n",
       "      <th></th>\n",
       "      <th>CERT</th>\n",
       "      <th>CHCLASS1</th>\n",
       "      <th>CITYST</th>\n",
       "      <th>COST</th>\n",
       "      <th>FAILDATE</th>\n",
       "      <th>FIN</th>\n",
       "      <th>ID</th>\n",
       "      <th>NAME</th>\n",
       "      <th>QBFASSET</th>\n",
       "      <th>QBFDEP</th>\n",
       "      <th>RESTYPE</th>\n",
       "      <th>RESTYPE1</th>\n",
       "      <th>SAVR</th>\n",
       "    </tr>\n",
       "  </thead>\n",
       "  <tbody>\n",
       "    <tr>\n",
       "      <th>0</th>\n",
       "      <td>27332</td>\n",
       "      <td>NM</td>\n",
       "      <td>PHILADELPHIA, PA</td>\n",
       "      <td>NaN</td>\n",
       "      <td>4/26/2024</td>\n",
       "      <td>10546</td>\n",
       "      <td>4110</td>\n",
       "      <td>REPUBLIC BANK</td>\n",
       "      <td>5866190.0</td>\n",
       "      <td>4373927.0</td>\n",
       "      <td>FAILURE</td>\n",
       "      <td>PA</td>\n",
       "      <td>BIF</td>\n",
       "    </tr>\n",
       "    <tr>\n",
       "      <th>1</th>\n",
       "      <td>8758</td>\n",
       "      <td>NM</td>\n",
       "      <td>SAC CITY, IA</td>\n",
       "      <td>14804.0</td>\n",
       "      <td>11/3/2023</td>\n",
       "      <td>10545</td>\n",
       "      <td>4109</td>\n",
       "      <td>CITIZENS BANK</td>\n",
       "      <td>60448.0</td>\n",
       "      <td>52311.0</td>\n",
       "      <td>FAILURE</td>\n",
       "      <td>PA</td>\n",
       "      <td>DIF</td>\n",
       "    </tr>\n",
       "    <tr>\n",
       "      <th>2</th>\n",
       "      <td>25851</td>\n",
       "      <td>SM</td>\n",
       "      <td>ELKHART, KS</td>\n",
       "      <td>54167.0</td>\n",
       "      <td>7/28/2023</td>\n",
       "      <td>10544</td>\n",
       "      <td>4108</td>\n",
       "      <td>HEARTLAND TRI-STATE BANK</td>\n",
       "      <td>139446.0</td>\n",
       "      <td>130110.0</td>\n",
       "      <td>FAILURE</td>\n",
       "      <td>PA</td>\n",
       "      <td>DIF</td>\n",
       "    </tr>\n",
       "    <tr>\n",
       "      <th>3</th>\n",
       "      <td>59017</td>\n",
       "      <td>NM</td>\n",
       "      <td>SAN FRANCISCO, CA</td>\n",
       "      <td>16566779.0</td>\n",
       "      <td>5/1/2023</td>\n",
       "      <td>10543</td>\n",
       "      <td>4107</td>\n",
       "      <td>FIRST REPUBLIC BANK</td>\n",
       "      <td>212638872.0</td>\n",
       "      <td>176436706.0</td>\n",
       "      <td>FAILURE</td>\n",
       "      <td>PA</td>\n",
       "      <td>DIF</td>\n",
       "    </tr>\n",
       "    <tr>\n",
       "      <th>4</th>\n",
       "      <td>57053</td>\n",
       "      <td>NM</td>\n",
       "      <td>NEW YORK, NY</td>\n",
       "      <td>2787270.0</td>\n",
       "      <td>3/12/2023</td>\n",
       "      <td>10540</td>\n",
       "      <td>4106</td>\n",
       "      <td>SIGNATURE BANK</td>\n",
       "      <td>110363650.0</td>\n",
       "      <td>88612911.0</td>\n",
       "      <td>FAILURE</td>\n",
       "      <td>PA</td>\n",
       "      <td>DIF</td>\n",
       "    </tr>\n",
       "  </tbody>\n",
       "</table>\n",
       "</div>"
      ],
      "text/plain": [
       "    CERT CHCLASS1             CITYST        COST   FAILDATE    FIN    ID  \\\n",
       "0  27332       NM   PHILADELPHIA, PA         NaN  4/26/2024  10546  4110   \n",
       "1   8758       NM       SAC CITY, IA     14804.0  11/3/2023  10545  4109   \n",
       "2  25851       SM        ELKHART, KS     54167.0  7/28/2023  10544  4108   \n",
       "3  59017       NM  SAN FRANCISCO, CA  16566779.0   5/1/2023  10543  4107   \n",
       "4  57053       NM       NEW YORK, NY   2787270.0  3/12/2023  10540  4106   \n",
       "\n",
       "                       NAME     QBFASSET       QBFDEP  RESTYPE RESTYPE1 SAVR  \n",
       "0             REPUBLIC BANK    5866190.0    4373927.0  FAILURE       PA  BIF  \n",
       "1             CITIZENS BANK      60448.0      52311.0  FAILURE       PA  DIF  \n",
       "2  HEARTLAND TRI-STATE BANK     139446.0     130110.0  FAILURE       PA  DIF  \n",
       "3       FIRST REPUBLIC BANK  212638872.0  176436706.0  FAILURE       PA  DIF  \n",
       "4            SIGNATURE BANK  110363650.0   88612911.0  FAILURE       PA  DIF  "
      ]
     },
     "execution_count": 3,
     "metadata": {},
     "output_type": "execute_result"
    }
   ],
   "source": [
    "df = pd.read_sql_query('SELECT * FROM BANKFAILURES;', disk_engine)\n",
    "df.head()"
   ]
  },
  {
   "cell_type": "markdown",
   "metadata": {},
   "source": [
    "## Renaming columns\n",
    "Looking at the dataframe we can see that the column names arent that clear. We can rename the column names in Table by using the **ALTER TABLE** command."
   ]
  },
  {
   "cell_type": "code",
   "execution_count": 4,
   "metadata": {},
   "outputs": [],
   "source": [
    "new_columns_names = [\n",
    "            ('CHCLASS1', 'CHARTER_CLASS'),\n",
    "             ('CITYST' , 'CITY_ST'),\n",
    "             ('COST', 'ESTIMATED_LOSS'),\n",
    "             ('FAILDATE', 'FAIL_DATE'),\n",
    "             ('QBFASSET', 'TOTAL_ASSETS'),\n",
    "             ('QBFDEP', 'TOTAL_DEPOSITS'),\n",
    "             ('RESTYPE', 'RESOLUTION'),\n",
    "             ('RESTYPE1', 'TRANSACTION_TYPE'),\n",
    "             ('SAVR', 'INSURANCE_FUND')]\n",
    "for old_name, new_name in new_columns_names: \n",
    "    c.execute(f'ALTER TABLE BANKFAILURES RENAME COLUMN {old_name} TO {new_name}') #executes query string\n",
    "\n",
    "    "
   ]
  },
  {
   "cell_type": "code",
   "execution_count": 5,
   "metadata": {},
   "outputs": [],
   "source": [
    "#disk_engine.commit() # commit so changes can be perma"
   ]
  },
  {
   "cell_type": "markdown",
   "metadata": {},
   "source": [
    "# How many banks have failed in this dataset?"
   ]
  },
  {
   "cell_type": "code",
   "execution_count": 6,
   "metadata": {
    "scrolled": false
   },
   "outputs": [
    {
     "data": {
      "text/html": [
       "<div>\n",
       "<style scoped>\n",
       "    .dataframe tbody tr th:only-of-type {\n",
       "        vertical-align: middle;\n",
       "    }\n",
       "\n",
       "    .dataframe tbody tr th {\n",
       "        vertical-align: top;\n",
       "    }\n",
       "\n",
       "    .dataframe thead th {\n",
       "        text-align: right;\n",
       "    }\n",
       "</style>\n",
       "<table border=\"1\" class=\"dataframe\">\n",
       "  <thead>\n",
       "    <tr style=\"text-align: right;\">\n",
       "      <th></th>\n",
       "      <th>number_of_failed_banks</th>\n",
       "    </tr>\n",
       "  </thead>\n",
       "  <tbody>\n",
       "    <tr>\n",
       "      <th>0</th>\n",
       "      <td>3548</td>\n",
       "    </tr>\n",
       "  </tbody>\n",
       "</table>\n",
       "</div>"
      ],
      "text/plain": [
       "   number_of_failed_banks\n",
       "0                    3548"
      ]
     },
     "execution_count": 6,
     "metadata": {},
     "output_type": "execute_result"
    }
   ],
   "source": [
    "query = '''SELECT COUNT(*) AS number_of_failed_banks\n",
    "            FROM BANKFAILURES\n",
    "            \n",
    "'''\n",
    "df = pd.read_sql_query(query,disk_engine).rename(columns=str.lower);df.head()"
   ]
  },
  {
   "cell_type": "markdown",
   "metadata": {},
   "source": [
    "# What are the unique locations where banks have failed?"
   ]
  },
  {
   "cell_type": "code",
   "execution_count": 7,
   "metadata": {
    "scrolled": true
   },
   "outputs": [
    {
     "name": "stdout",
     "output_type": "stream",
     "text": [
      "There are 1998 unique locations, the first five are:\n"
     ]
    },
    {
     "data": {
      "text/html": [
       "<div>\n",
       "<style scoped>\n",
       "    .dataframe tbody tr th:only-of-type {\n",
       "        vertical-align: middle;\n",
       "    }\n",
       "\n",
       "    .dataframe tbody tr th {\n",
       "        vertical-align: top;\n",
       "    }\n",
       "\n",
       "    .dataframe thead th {\n",
       "        text-align: right;\n",
       "    }\n",
       "</style>\n",
       "<table border=\"1\" class=\"dataframe\">\n",
       "  <thead>\n",
       "    <tr style=\"text-align: right;\">\n",
       "      <th></th>\n",
       "      <th>city_st</th>\n",
       "    </tr>\n",
       "  </thead>\n",
       "  <tbody>\n",
       "    <tr>\n",
       "      <th>0</th>\n",
       "      <td>PHILADELPHIA, PA</td>\n",
       "    </tr>\n",
       "    <tr>\n",
       "      <th>1</th>\n",
       "      <td>SAC CITY, IA</td>\n",
       "    </tr>\n",
       "    <tr>\n",
       "      <th>2</th>\n",
       "      <td>ELKHART, KS</td>\n",
       "    </tr>\n",
       "    <tr>\n",
       "      <th>3</th>\n",
       "      <td>SAN FRANCISCO, CA</td>\n",
       "    </tr>\n",
       "    <tr>\n",
       "      <th>4</th>\n",
       "      <td>NEW YORK, NY</td>\n",
       "    </tr>\n",
       "  </tbody>\n",
       "</table>\n",
       "</div>"
      ],
      "text/plain": [
       "             city_st\n",
       "0   PHILADELPHIA, PA\n",
       "1       SAC CITY, IA\n",
       "2        ELKHART, KS\n",
       "3  SAN FRANCISCO, CA\n",
       "4       NEW YORK, NY"
      ]
     },
     "execution_count": 7,
     "metadata": {},
     "output_type": "execute_result"
    }
   ],
   "source": [
    "query = '''SELECT DISTINCT city_st\n",
    "            FROM BANKFAILURES'''\n",
    "df = pd.read_sql_query(query,disk_engine).rename(columns=str.lower)\n",
    "print(\"There are {} unique locations, the first five are:\".format(len(df)))\n",
    "df.head()"
   ]
  },
  {
   "cell_type": "markdown",
   "metadata": {},
   "source": [
    "## Lets see how many by state, whats your guess? 50?"
   ]
  },
  {
   "cell_type": "code",
   "execution_count": 28,
   "metadata": {
    "scrolled": false
   },
   "outputs": [
    {
     "name": "stdout",
     "output_type": "stream",
     "text": [
      "There are 53 unique States, the first five are:\n"
     ]
    },
    {
     "data": {
      "text/html": [
       "<div>\n",
       "<style scoped>\n",
       "    .dataframe tbody tr th:only-of-type {\n",
       "        vertical-align: middle;\n",
       "    }\n",
       "\n",
       "    .dataframe tbody tr th {\n",
       "        vertical-align: top;\n",
       "    }\n",
       "\n",
       "    .dataframe thead th {\n",
       "        text-align: right;\n",
       "    }\n",
       "</style>\n",
       "<table border=\"1\" class=\"dataframe\">\n",
       "  <thead>\n",
       "    <tr style=\"text-align: right;\">\n",
       "      <th></th>\n",
       "      <th>State</th>\n",
       "      <th>Count</th>\n",
       "    </tr>\n",
       "  </thead>\n",
       "  <tbody>\n",
       "    <tr>\n",
       "      <th>0</th>\n",
       "      <td>TX</td>\n",
       "      <td>863</td>\n",
       "    </tr>\n",
       "    <tr>\n",
       "      <th>1</th>\n",
       "      <td>CA</td>\n",
       "      <td>259</td>\n",
       "    </tr>\n",
       "    <tr>\n",
       "      <th>2</th>\n",
       "      <td>IL</td>\n",
       "      <td>200</td>\n",
       "    </tr>\n",
       "    <tr>\n",
       "      <th>3</th>\n",
       "      <td>FL</td>\n",
       "      <td>194</td>\n",
       "    </tr>\n",
       "    <tr>\n",
       "      <th>4</th>\n",
       "      <td>OK</td>\n",
       "      <td>169</td>\n",
       "    </tr>\n",
       "  </tbody>\n",
       "</table>\n",
       "</div>"
      ],
      "text/plain": [
       "  State  Count\n",
       "0    TX    863\n",
       "1    CA    259\n",
       "2    IL    200\n",
       "3    FL    194\n",
       "4    OK    169"
      ]
     },
     "execution_count": 28,
     "metadata": {},
     "output_type": "execute_result"
    }
   ],
   "source": [
    "query = ''' SELECT DISTINCT SUBSTR(city_st,-2) AS State, COUNT(*) AS Count\n",
    "            FROM BANKFAILURES\n",
    "            GROUP BY 1\n",
    "            ORDER BY Count DESC         \n",
    "            '''\n",
    "df = pd.read_sql_query(query,disk_engine)\n",
    "print(\"There are {} unique States, the first five are:\".format(len(df)))\n",
    "df.head()"
   ]
  },
  {
   "cell_type": "markdown",
   "metadata": {},
   "source": [
    "## We also see the counts for each state and looks like texas has a lot of banks that failed. Lets calculate a Cumulative percentage"
   ]
  },
  {
   "cell_type": "code",
   "execution_count": 22,
   "metadata": {
    "scrolled": false
   },
   "outputs": [
    {
     "name": "stdout",
     "output_type": "stream",
     "text": [
      "The Top 5 States with the highest percentage\n"
     ]
    },
    {
     "data": {
      "text/html": [
       "<div>\n",
       "<style scoped>\n",
       "    .dataframe tbody tr th:only-of-type {\n",
       "        vertical-align: middle;\n",
       "    }\n",
       "\n",
       "    .dataframe tbody tr th {\n",
       "        vertical-align: top;\n",
       "    }\n",
       "\n",
       "    .dataframe thead th {\n",
       "        text-align: right;\n",
       "    }\n",
       "</style>\n",
       "<table border=\"1\" class=\"dataframe\">\n",
       "  <thead>\n",
       "    <tr style=\"text-align: right;\">\n",
       "      <th></th>\n",
       "      <th>State</th>\n",
       "      <th>Count</th>\n",
       "      <th>TotalFailuresPercentageByState</th>\n",
       "    </tr>\n",
       "  </thead>\n",
       "  <tbody>\n",
       "    <tr>\n",
       "      <th>0</th>\n",
       "      <td>TX</td>\n",
       "      <td>863</td>\n",
       "      <td>24.32%</td>\n",
       "    </tr>\n",
       "    <tr>\n",
       "      <th>1</th>\n",
       "      <td>CA</td>\n",
       "      <td>259</td>\n",
       "      <td>7.3%</td>\n",
       "    </tr>\n",
       "    <tr>\n",
       "      <th>2</th>\n",
       "      <td>IL</td>\n",
       "      <td>200</td>\n",
       "      <td>5.64%</td>\n",
       "    </tr>\n",
       "    <tr>\n",
       "      <th>3</th>\n",
       "      <td>FL</td>\n",
       "      <td>194</td>\n",
       "      <td>5.47%</td>\n",
       "    </tr>\n",
       "    <tr>\n",
       "      <th>4</th>\n",
       "      <td>OK</td>\n",
       "      <td>169</td>\n",
       "      <td>4.76%</td>\n",
       "    </tr>\n",
       "  </tbody>\n",
       "</table>\n",
       "</div>"
      ],
      "text/plain": [
       "  State  Count TotalFailuresPercentageByState\n",
       "0    TX    863                         24.32%\n",
       "1    CA    259                           7.3%\n",
       "2    IL    200                          5.64%\n",
       "3    FL    194                          5.47%\n",
       "4    OK    169                          4.76%"
      ]
     },
     "execution_count": 22,
     "metadata": {},
     "output_type": "execute_result"
    }
   ],
   "source": [
    "query = '''\n",
    "        SELECT \n",
    "    State, \n",
    "    Count, \n",
    "    ROUND((Count * 1.0/ (SELECT COUNT(*) FROM BANKFAILURES)) * 100.00000,2) || '%' AS TotalFailuresPercentageByState\n",
    "FROM (\n",
    "    SELECT \n",
    "        SUBSTR(city_st, -2) AS State, \n",
    "        COUNT(*) AS Count\n",
    "    FROM BANKFAILURES\n",
    "    GROUP BY SUBSTR(city_st, -2)\n",
    ")\n",
    "ORDER BY Count DESC     \n",
    " \n",
    "'''\n",
    "df = pd.read_sql_query(query,disk_engine)\n",
    "print(\"The Top 5 States with the highest percentage of bank failures\")\n",
    "\n",
    "df.head()"
   ]
  },
  {
   "cell_type": "markdown",
   "metadata": {},
   "source": [
    "### The Top 10 States with the most Bank Failures and we can see that Texas holds almost a fourth of the total bank failures"
   ]
  },
  {
   "cell_type": "code",
   "execution_count": 27,
   "metadata": {
    "scrolled": false
   },
   "outputs": [
    {
     "data": {
      "text/html": [
       "\n",
       "  <div id=\"b707a145-e16c-4815-afb4-0378bd6553d7\" data-root-id=\"p1154\" style=\"display: contents;\"></div>\n"
      ]
     },
     "metadata": {},
     "output_type": "display_data"
    },
    {
     "data": {
      "application/javascript": [
       "(function(root) {\n",
       "  function embed_document(root) {\n",
       "  const docs_json = {\"47e338c2-c42f-4124-ac07-9666c94d7594\":{\"version\":\"3.3.4\",\"title\":\"Bokeh Application\",\"roots\":[{\"type\":\"object\",\"name\":\"Figure\",\"id\":\"p1154\",\"attributes\":{\"width\":640,\"height\":320,\"x_range\":{\"type\":\"object\",\"name\":\"FactorRange\",\"id\":\"p1163\",\"attributes\":{\"factors\":[\"TX\",\"CA\",\"IL\",\"FL\",\"OK\",\"LA\",\"GA\",\"KS\",\"CO\",\"MO\"]}},\"y_range\":{\"type\":\"object\",\"name\":\"DataRange1d\",\"id\":\"p1156\",\"attributes\":{\"start\":0}},\"x_scale\":{\"type\":\"object\",\"name\":\"CategoricalScale\",\"id\":\"p1164\"},\"y_scale\":{\"type\":\"object\",\"name\":\"LinearScale\",\"id\":\"p1165\"},\"title\":{\"type\":\"object\",\"name\":\"Title\",\"id\":\"p1161\"},\"renderers\":[{\"type\":\"object\",\"name\":\"GlyphRenderer\",\"id\":\"p1194\",\"attributes\":{\"data_source\":{\"type\":\"object\",\"name\":\"ColumnDataSource\",\"id\":\"p1151\",\"attributes\":{\"selected\":{\"type\":\"object\",\"name\":\"Selection\",\"id\":\"p1152\",\"attributes\":{\"indices\":[],\"line_indices\":[]}},\"selection_policy\":{\"type\":\"object\",\"name\":\"UnionRenderers\",\"id\":\"p1153\"},\"data\":{\"type\":\"map\",\"entries\":[[\"index\",{\"type\":\"ndarray\",\"array\":{\"type\":\"bytes\",\"data\":\"AAAAAAEAAAACAAAAAwAAAAQAAAAFAAAABgAAAAcAAAAIAAAACQAAAA==\"},\"shape\":[10],\"dtype\":\"int32\",\"order\":\"little\"}],[\"State\",{\"type\":\"ndarray\",\"array\":[\"TX\",\"CA\",\"IL\",\"FL\",\"OK\",\"LA\",\"GA\",\"KS\",\"CO\",\"MO\"],\"shape\":[10],\"dtype\":\"object\",\"order\":\"little\"}],[\"Count\",{\"type\":\"ndarray\",\"array\":{\"type\":\"bytes\",\"data\":\"XwMAAAMBAADIAAAAwgAAAKkAAAChAAAAeQAAAG8AAABeAAAAVAAAAA==\"},\"shape\":[10],\"dtype\":\"int32\",\"order\":\"little\"}],[\"TotalFailuresPercentageByState\",{\"type\":\"ndarray\",\"array\":[\"24.32%\",\"7.3%\",\"5.64%\",\"5.47%\",\"4.76%\",\"4.54%\",\"3.41%\",\"3.13%\",\"2.65%\",\"2.37%\"],\"shape\":[10],\"dtype\":\"object\",\"order\":\"little\"}]]}}},\"view\":{\"type\":\"object\",\"name\":\"CDSView\",\"id\":\"p1195\",\"attributes\":{\"filter\":{\"type\":\"object\",\"name\":\"AllIndices\",\"id\":\"p1196\"}}},\"glyph\":{\"type\":\"object\",\"name\":\"VBar\",\"id\":\"p1191\",\"attributes\":{\"x\":{\"type\":\"field\",\"field\":\"State\"},\"width\":{\"type\":\"value\",\"value\":0.9},\"top\":{\"type\":\"field\",\"field\":\"Count\"},\"line_color\":{\"type\":\"value\",\"value\":\"#1f77b4\"},\"fill_color\":{\"type\":\"field\",\"field\":\"State\",\"transform\":{\"type\":\"object\",\"name\":\"CategoricalColorMapper\",\"id\":\"p1187\",\"attributes\":{\"palette\":[\"#3182bd\",\"#6baed6\",\"#9ecae1\",\"#c6dbef\",\"#e6550d\",\"#fd8d3c\",\"#fdae6b\",\"#fdd0a2\",\"#31a354\",\"#74c476\"],\"factors\":[\"TX\",\"CA\",\"IL\",\"FL\",\"OK\",\"LA\",\"GA\",\"KS\",\"CO\",\"MO\"]}}}}},\"nonselection_glyph\":{\"type\":\"object\",\"name\":\"VBar\",\"id\":\"p1192\",\"attributes\":{\"x\":{\"type\":\"field\",\"field\":\"State\"},\"width\":{\"type\":\"value\",\"value\":0.9},\"top\":{\"type\":\"field\",\"field\":\"Count\"},\"line_color\":{\"type\":\"value\",\"value\":\"#1f77b4\"},\"line_alpha\":{\"type\":\"value\",\"value\":0.1},\"fill_color\":{\"type\":\"field\",\"field\":\"State\",\"transform\":{\"id\":\"p1187\"}},\"fill_alpha\":{\"type\":\"value\",\"value\":0.1},\"hatch_alpha\":{\"type\":\"value\",\"value\":0.1}}},\"muted_glyph\":{\"type\":\"object\",\"name\":\"VBar\",\"id\":\"p1193\",\"attributes\":{\"x\":{\"type\":\"field\",\"field\":\"State\"},\"width\":{\"type\":\"value\",\"value\":0.9},\"top\":{\"type\":\"field\",\"field\":\"Count\"},\"line_color\":{\"type\":\"value\",\"value\":\"#1f77b4\"},\"line_alpha\":{\"type\":\"value\",\"value\":0.2},\"fill_color\":{\"type\":\"field\",\"field\":\"State\",\"transform\":{\"id\":\"p1187\"}},\"fill_alpha\":{\"type\":\"value\",\"value\":0.2},\"hatch_alpha\":{\"type\":\"value\",\"value\":0.2}}}}}],\"toolbar\":{\"type\":\"object\",\"name\":\"Toolbar\",\"id\":\"p1162\",\"attributes\":{\"tools\":[{\"type\":\"object\",\"name\":\"PanTool\",\"id\":\"p1176\"},{\"type\":\"object\",\"name\":\"WheelZoomTool\",\"id\":\"p1177\",\"attributes\":{\"renderers\":\"auto\"}},{\"type\":\"object\",\"name\":\"BoxZoomTool\",\"id\":\"p1178\",\"attributes\":{\"overlay\":{\"type\":\"object\",\"name\":\"BoxAnnotation\",\"id\":\"p1179\",\"attributes\":{\"syncable\":false,\"level\":\"overlay\",\"visible\":false,\"left\":{\"type\":\"number\",\"value\":\"nan\"},\"right\":{\"type\":\"number\",\"value\":\"nan\"},\"top\":{\"type\":\"number\",\"value\":\"nan\"},\"bottom\":{\"type\":\"number\",\"value\":\"nan\"},\"left_units\":\"canvas\",\"right_units\":\"canvas\",\"top_units\":\"canvas\",\"bottom_units\":\"canvas\",\"line_color\":\"black\",\"line_alpha\":1.0,\"line_width\":2,\"line_dash\":[4,4],\"fill_color\":\"lightgrey\",\"fill_alpha\":0.5}}}},{\"type\":\"object\",\"name\":\"SaveTool\",\"id\":\"p1184\"},{\"type\":\"object\",\"name\":\"ResetTool\",\"id\":\"p1185\"},{\"type\":\"object\",\"name\":\"HelpTool\",\"id\":\"p1186\"}]}},\"left\":[{\"type\":\"object\",\"name\":\"LinearAxis\",\"id\":\"p1171\",\"attributes\":{\"ticker\":{\"type\":\"object\",\"name\":\"BasicTicker\",\"id\":\"p1172\",\"attributes\":{\"mantissas\":[1,2,5]}},\"formatter\":{\"type\":\"object\",\"name\":\"BasicTickFormatter\",\"id\":\"p1173\"},\"major_label_policy\":{\"type\":\"object\",\"name\":\"AllLabels\",\"id\":\"p1174\"}}}],\"below\":[{\"type\":\"object\",\"name\":\"CategoricalAxis\",\"id\":\"p1166\",\"attributes\":{\"ticker\":{\"type\":\"object\",\"name\":\"CategoricalTicker\",\"id\":\"p1167\"},\"formatter\":{\"type\":\"object\",\"name\":\"CategoricalTickFormatter\",\"id\":\"p1168\"},\"major_label_policy\":{\"type\":\"object\",\"name\":\"AllLabels\",\"id\":\"p1169\"}}}],\"center\":[{\"type\":\"object\",\"name\":\"Grid\",\"id\":\"p1170\",\"attributes\":{\"axis\":{\"id\":\"p1166\"},\"grid_line_color\":null}},{\"type\":\"object\",\"name\":\"Grid\",\"id\":\"p1175\",\"attributes\":{\"dimension\":1,\"axis\":{\"id\":\"p1171\"}}},{\"type\":\"object\",\"name\":\"Legend\",\"id\":\"p1197\",\"attributes\":{\"location\":\"top_center\",\"orientation\":\"horizontal\",\"items\":[{\"type\":\"object\",\"name\":\"LegendItem\",\"id\":\"p1198\",\"attributes\":{\"label\":{\"type\":\"field\",\"field\":\"State\"},\"renderers\":[{\"id\":\"p1194\"}]}}]}}]}}]}};\n",
       "  const render_items = [{\"docid\":\"47e338c2-c42f-4124-ac07-9666c94d7594\",\"roots\":{\"p1154\":\"b707a145-e16c-4815-afb4-0378bd6553d7\"},\"root_ids\":[\"p1154\"]}];\n",
       "  root.Bokeh.embed.embed_items_notebook(docs_json, render_items);\n",
       "  }\n",
       "  if (root.Bokeh !== undefined) {\n",
       "    embed_document(root);\n",
       "  } else {\n",
       "    let attempts = 0;\n",
       "    const timer = setInterval(function(root) {\n",
       "      if (root.Bokeh !== undefined) {\n",
       "        clearInterval(timer);\n",
       "        embed_document(root);\n",
       "      } else {\n",
       "        attempts++;\n",
       "        if (attempts > 100) {\n",
       "          clearInterval(timer);\n",
       "          console.log(\"Bokeh: ERROR: Unable to run BokehJS code because BokehJS library is missing\");\n",
       "        }\n",
       "      }\n",
       "    }, 10, root)\n",
       "  }\n",
       "})(window);"
      ],
      "application/vnd.bokehjs_exec.v0+json": ""
     },
     "metadata": {
      "application/vnd.bokehjs_exec.v0+json": {
       "id": "p1154"
      }
     },
     "output_type": "display_data"
    }
   ],
   "source": [
    "p = make_barchart(df.head(10), 'State', 'Count', kwargs_figure={'width': 640, 'height': 320})\n",
    "show(p)"
   ]
  },
  {
   "cell_type": "code",
   "execution_count": null,
   "metadata": {},
   "outputs": [],
   "source": []
  }
 ],
 "metadata": {
  "kernelspec": {
   "display_name": "Python 3 (ipykernel)",
   "language": "python",
   "name": "python3"
  },
  "language_info": {
   "codemirror_mode": {
    "name": "ipython",
    "version": 3
   },
   "file_extension": ".py",
   "mimetype": "text/x-python",
   "name": "python",
   "nbconvert_exporter": "python",
   "pygments_lexer": "ipython3",
   "version": "3.11.7"
  }
 },
 "nbformat": 4,
 "nbformat_minor": 2
}
